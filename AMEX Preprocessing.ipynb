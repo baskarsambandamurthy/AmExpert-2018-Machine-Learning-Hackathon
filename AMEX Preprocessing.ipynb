{
  "cells": [
    {
      "metadata": {
        "_uuid": "8f2839f25d086af736a60e9eeb907d3b93b6e0e5",
        "_cell_guid": "b1076dfc-b9ad-4769-8c92-a6c4dae69d19",
        "trusted": true,
        "_kg_hide-input": true
      },
      "cell_type": "code",
      "source": "import os\nimport json\nimport numpy as np\nimport pandas as pd\nfrom pandas.io.json import json_normalize\nimport matplotlib.pyplot as plt\nimport seaborn as sns\ncolor = sns.color_palette()\n\n%matplotlib inline\n\nfrom plotly import tools\nimport plotly.offline as py\npy.init_notebook_mode(connected=True)\nimport plotly.graph_objs as go\n\nfrom sklearn import model_selection, preprocessing, metrics\nimport lightgbm as lgb\n\nfrom sklearn.model_selection import KFold\nfrom tqdm import tqdm\nimport gc\nimport datetime\nimport re\nfrom sklearn.ensemble import RandomForestClassifier\nfrom sklearn.metrics import matthews_corrcoef, roc_curve, auc, roc_auc_score, classification_report, confusion_matrix\nfrom sklearn.metrics import f1_score,precision_recall_curve,roc_curve, recall_score,precision_score\nfrom sklearn.model_selection import train_test_split\n\nfrom sklearn.model_selection import KFold,GroupKFold,StratifiedKFold\nfrom sklearn.metrics import mean_squared_error\n\nimport warnings\nwarnings.filterwarnings(\"ignore\")\n\npd.options.mode.chained_assignment = None\npd.options.display.max_columns = 999\npd.options.display.max_rows = 500",
      "execution_count": 1,
      "outputs": [
        {
          "output_type": "display_data",
          "data": {
            "text/html": "<script>requirejs.config({paths: { 'plotly': ['https://cdn.plot.ly/plotly-latest.min']},});if(!window.Plotly) {{require(['plotly'],function(plotly) {window.Plotly=plotly;});}}</script>",
            "text/vnd.plotly.v1+html": "<script>requirejs.config({paths: { 'plotly': ['https://cdn.plot.ly/plotly-latest.min']},});if(!window.Plotly) {{require(['plotly'],function(plotly) {window.Plotly=plotly;});}}</script>"
          },
          "metadata": {}
        }
      ]
    },
    {
      "metadata": {
        "trusted": true,
        "_uuid": "eb95d0b4f2b3a48e85718a855915e0c6ffac96fa"
      },
      "cell_type": "code",
      "source": "# Path = '../input/amexml/'\nPath = '../input/amex-basic-processing/'\ntrain_df=pd.read_hdf(Path+'train_basic.hdf')\nprint('train reading complete')\ntest_df=pd.read_hdf(Path+'test_basic.hdf')\nprint('test reading complete')\n# log_df=pd.read_hdf('../input/amex-classification/'+'historical_user_logs.hdf')\n# print('log reading complete')",
      "execution_count": 2,
      "outputs": [
        {
          "output_type": "stream",
          "text": "train reading complete\ntest reading complete\n",
          "name": "stdout"
        }
      ]
    },
    {
      "metadata": {
        "trusted": true,
        "_uuid": "ef1992c6d5361c952b30e8c035656a2d6eba9862"
      },
      "cell_type": "code",
      "source": "print(train_df.shape)\ntrain_df.head()",
      "execution_count": 3,
      "outputs": [
        {
          "output_type": "stream",
          "text": "(463291, 74)\n",
          "name": "stdout"
        },
        {
          "output_type": "execute_result",
          "execution_count": 3,
          "data": {
            "text/plain": "   session_id            DateTime  user_id  product  campaign_id  webpage_id  \\\n0      140690 2017-07-02 00:00:00   858557        0       359520       13787   \n1      333291 2017-07-02 00:00:00   243253        0       105960       11085   \n2      129781 2017-07-02 00:00:00   243253        0       359520       13787   \n3      464848 2017-07-02 00:00:00  1097446        1       359520       13787   \n4       90569 2017-07-02 00:01:00   663656        0       405490       60305   \n\n   product_category_1  product_category_2  user_group_id  gender  age_level  \\\n0                   4                 NaN           10.0       0        4.0   \n1                   5                 NaN            8.0       0        2.0   \n2                   4                 NaN            8.0       0        2.0   \n3                   3                 NaN            3.0       1        3.0   \n4                   3                 NaN            2.0       1        2.0   \n\n   user_depth  city_development_index  var_1  is_click  day  dayofweek  month  \\\n0         3.0                     3.0      0         0    2          6      7   \n1         2.0                     NaN      0         0    2          6      7   \n2         2.0                     NaN      0         0    2          6      7   \n3         3.0                     2.0      1         0    2          6      7   \n4         3.0                     2.0      1         0    2          6      7   \n\n   hour  action_mean  action_sum  action_count  action_month_mean  \\\n0     0     0.000000         0.0           5.0           0.017626   \n1     0     0.000000         0.0          11.0           0.017626   \n2     0     0.000000         0.0          11.0           0.017626   \n3     0     0.111111         1.0           9.0           0.017626   \n4     0     0.000000         0.0           3.0           0.017626   \n\n   action_month_sum  action_month_count  action_dayofweek_mean  \\\n0             32672             1853670               0.018257   \n1             32672             1853670               0.018257   \n2             32672             1853670               0.018257   \n3             32672             1853670               0.018257   \n4             32672             1853670               0.018257   \n\n   action_dayofweek_sum  action_dayofweek_count  action_hour_mean  \\\n0                 62319                 3413502          0.017553   \n1                 62319                 3413502          0.017553   \n2                 62319                 3413502          0.017553   \n3                 62319                 3413502          0.017553   \n4                 62319                 3413502          0.017553   \n\n   action_hour_sum  action_hour_count  action_usermonth_mean  \\\n0             2729             155471               0.000000   \n1             2729             155471              -1.000000   \n2             2729             155471              -1.000000   \n3             2729             155471               0.000000   \n4             2729             155471               0.043478   \n\n   action_usermonth_sum  action_usermonth_count  action_userdayofweek_mean  \\\n0                   0.0                   198.0                        0.0   \n1                  -1.0                    -1.0                        0.0   \n2                  -1.0                    -1.0                        0.0   \n3                   0.0                     2.0                        0.0   \n4                   2.0                    46.0                       -1.0   \n\n   action_userdayofweek_sum  action_userdayofweek_count  action_userhour_mean  \\\n0                       0.0                       129.0                   0.0   \n1                       0.0                        42.0                  -1.0   \n2                       0.0                        42.0                  -1.0   \n3                       0.0                         8.0                  -1.0   \n4                      -1.0                        -1.0                  -1.0   \n\n   action_userhour_sum  action_userhour_count  action_productmonth_mean  \\\n0                  0.0                   35.0                  0.017464   \n1                 -1.0                   -1.0                  0.017464   \n2                 -1.0                   -1.0                  0.017464   \n3                 -1.0                   -1.0                  0.017303   \n4                 -1.0                   -1.0                  0.017464   \n\n   action_productmonth_sum  action_productmonth_count  \\\n0                     2333                     133591   \n1                     2333                     133591   \n2                     2333                     133591   \n3                     2297                     132748   \n4                     2333                     133591   \n\n   action_productdayofweek_mean  action_productdayofweek_sum  \\\n0                      0.017825                         4245   \n1                      0.017825                         4245   \n2                      0.017825                         4245   \n3                      0.017131                         4037   \n4                      0.017825                         4245   \n\n   action_productdayofweek_count  action_producthour_mean  \\\n0                         238151                 0.018553   \n1                         238151                 0.018553   \n2                         238151                 0.018553   \n3                         235660                 0.017887   \n4                         238151                 0.018553   \n\n   action_producthour_sum  action_producthour_count  \\\n0                     242                     13044   \n1                     242                     13044   \n2                     242                     13044   \n3                     182                     10175   \n4                     242                     13044   \n\n   action_userproductmonth_mean  action_userproductmonth_sum  \\\n0                          -1.0                         -1.0   \n1                          -1.0                         -1.0   \n2                          -1.0                         -1.0   \n3                          -1.0                         -1.0   \n4                           0.0                          0.0   \n\n   action_userproductmonth_count  action_userproductdayofweek_mean  \\\n0                           -1.0                              -1.0   \n1                           -1.0                               0.0   \n2                           -1.0                               0.0   \n3                           -1.0                               0.0   \n4                            3.0                              -1.0   \n\n   action_userproductdayofweek_sum  action_userproductdayofweek_count  \\\n0                             -1.0                               -1.0   \n1                              0.0                               10.0   \n2                              0.0                               10.0   \n3                              0.0                                1.0   \n4                             -1.0                               -1.0   \n\n   action_userproducthour_mean  action_userproducthour_sum  \\\n0                         -1.0                        -1.0   \n1                         -1.0                        -1.0   \n2                         -1.0                        -1.0   \n3                         -1.0                        -1.0   \n4                         -1.0                        -1.0   \n\n   action_userproducthour_count  action_viewsum  action_month_viewsum  \\\n0                          -1.0             5.0               1820998   \n1                          -1.0            11.0               1820998   \n2                          -1.0            11.0               1820998   \n3                          -1.0             8.0               1820998   \n4                          -1.0             3.0               1820998   \n\n   action_dayofweek_viewsum  action_hour_viewsum  action_usermonth_viewsum  \\\n0                   3351183               152742                     198.0   \n1                   3351183               152742                       0.0   \n2                   3351183               152742                       0.0   \n3                   3351183               152742                       2.0   \n4                   3351183               152742                      44.0   \n\n   action_userdayofweek_viewsum  action_userhour_viewsum  \\\n0                         129.0                     35.0   \n1                          42.0                      0.0   \n2                          42.0                      0.0   \n3                           8.0                      0.0   \n4                           0.0                      0.0   \n\n   action_productmonth_viewsum  action_productdayofweek_viewsum  \\\n0                       131258                           233906   \n1                       131258                           233906   \n2                       131258                           233906   \n3                       130451                           231623   \n4                       131258                           233906   \n\n   action_producthour_viewsum  action_userproductmonth_viewsum  \\\n0                       12802                              0.0   \n1                       12802                              0.0   \n2                       12802                              0.0   \n3                        9993                              0.0   \n4                       12802                              3.0   \n\n   action_userproductdayofweek_viewsum  action_userproducthour_viewsum  \\\n0                                  0.0                             0.0   \n1                                 10.0                             0.0   \n2                                 10.0                             0.0   \n3                                  1.0                             0.0   \n4                                  0.0                             0.0   \n\n   action_userproduct_date_mean_total  action_product_date_mean_total  \\\n0                                -3.0                        0.053841   \n1                                -2.0                        0.053841   \n2                                -2.0                        0.053841   \n3                                -2.0                        0.052321   \n4                                -2.0                        0.053841   \n\n   action_user_date_mean_total  \n0                     0.000000  \n1                    -2.000000  \n2                    -2.000000  \n3                    -1.000000  \n4                    -1.956522  ",
            "text/html": "<div>\n<style scoped>\n    .dataframe tbody tr th:only-of-type {\n        vertical-align: middle;\n    }\n\n    .dataframe tbody tr th {\n        vertical-align: top;\n    }\n\n    .dataframe thead th {\n        text-align: right;\n    }\n</style>\n<table border=\"1\" class=\"dataframe\">\n  <thead>\n    <tr style=\"text-align: right;\">\n      <th></th>\n      <th>session_id</th>\n      <th>DateTime</th>\n      <th>user_id</th>\n      <th>product</th>\n      <th>campaign_id</th>\n      <th>webpage_id</th>\n      <th>product_category_1</th>\n      <th>product_category_2</th>\n      <th>user_group_id</th>\n      <th>gender</th>\n      <th>age_level</th>\n      <th>user_depth</th>\n      <th>city_development_index</th>\n      <th>var_1</th>\n      <th>is_click</th>\n      <th>day</th>\n      <th>dayofweek</th>\n      <th>month</th>\n      <th>hour</th>\n      <th>action_mean</th>\n      <th>action_sum</th>\n      <th>action_count</th>\n      <th>action_month_mean</th>\n      <th>action_month_sum</th>\n      <th>action_month_count</th>\n      <th>action_dayofweek_mean</th>\n      <th>action_dayofweek_sum</th>\n      <th>action_dayofweek_count</th>\n      <th>action_hour_mean</th>\n      <th>action_hour_sum</th>\n      <th>action_hour_count</th>\n      <th>action_usermonth_mean</th>\n      <th>action_usermonth_sum</th>\n      <th>action_usermonth_count</th>\n      <th>action_userdayofweek_mean</th>\n      <th>action_userdayofweek_sum</th>\n      <th>action_userdayofweek_count</th>\n      <th>action_userhour_mean</th>\n      <th>action_userhour_sum</th>\n      <th>action_userhour_count</th>\n      <th>action_productmonth_mean</th>\n      <th>action_productmonth_sum</th>\n      <th>action_productmonth_count</th>\n      <th>action_productdayofweek_mean</th>\n      <th>action_productdayofweek_sum</th>\n      <th>action_productdayofweek_count</th>\n      <th>action_producthour_mean</th>\n      <th>action_producthour_sum</th>\n      <th>action_producthour_count</th>\n      <th>action_userproductmonth_mean</th>\n      <th>action_userproductmonth_sum</th>\n      <th>action_userproductmonth_count</th>\n      <th>action_userproductdayofweek_mean</th>\n      <th>action_userproductdayofweek_sum</th>\n      <th>action_userproductdayofweek_count</th>\n      <th>action_userproducthour_mean</th>\n      <th>action_userproducthour_sum</th>\n      <th>action_userproducthour_count</th>\n      <th>action_viewsum</th>\n      <th>action_month_viewsum</th>\n      <th>action_dayofweek_viewsum</th>\n      <th>action_hour_viewsum</th>\n      <th>action_usermonth_viewsum</th>\n      <th>action_userdayofweek_viewsum</th>\n      <th>action_userhour_viewsum</th>\n      <th>action_productmonth_viewsum</th>\n      <th>action_productdayofweek_viewsum</th>\n      <th>action_producthour_viewsum</th>\n      <th>action_userproductmonth_viewsum</th>\n      <th>action_userproductdayofweek_viewsum</th>\n      <th>action_userproducthour_viewsum</th>\n      <th>action_userproduct_date_mean_total</th>\n      <th>action_product_date_mean_total</th>\n      <th>action_user_date_mean_total</th>\n    </tr>\n  </thead>\n  <tbody>\n    <tr>\n      <th>0</th>\n      <td>140690</td>\n      <td>2017-07-02 00:00:00</td>\n      <td>858557</td>\n      <td>0</td>\n      <td>359520</td>\n      <td>13787</td>\n      <td>4</td>\n      <td>NaN</td>\n      <td>10.0</td>\n      <td>0</td>\n      <td>4.0</td>\n      <td>3.0</td>\n      <td>3.0</td>\n      <td>0</td>\n      <td>0</td>\n      <td>2</td>\n      <td>6</td>\n      <td>7</td>\n      <td>0</td>\n      <td>0.000000</td>\n      <td>0.0</td>\n      <td>5.0</td>\n      <td>0.017626</td>\n      <td>32672</td>\n      <td>1853670</td>\n      <td>0.018257</td>\n      <td>62319</td>\n      <td>3413502</td>\n      <td>0.017553</td>\n      <td>2729</td>\n      <td>155471</td>\n      <td>0.000000</td>\n      <td>0.0</td>\n      <td>198.0</td>\n      <td>0.0</td>\n      <td>0.0</td>\n      <td>129.0</td>\n      <td>0.0</td>\n      <td>0.0</td>\n      <td>35.0</td>\n      <td>0.017464</td>\n      <td>2333</td>\n      <td>133591</td>\n      <td>0.017825</td>\n      <td>4245</td>\n      <td>238151</td>\n      <td>0.018553</td>\n      <td>242</td>\n      <td>13044</td>\n      <td>-1.0</td>\n      <td>-1.0</td>\n      <td>-1.0</td>\n      <td>-1.0</td>\n      <td>-1.0</td>\n      <td>-1.0</td>\n      <td>-1.0</td>\n      <td>-1.0</td>\n      <td>-1.0</td>\n      <td>5.0</td>\n      <td>1820998</td>\n      <td>3351183</td>\n      <td>152742</td>\n      <td>198.0</td>\n      <td>129.0</td>\n      <td>35.0</td>\n      <td>131258</td>\n      <td>233906</td>\n      <td>12802</td>\n      <td>0.0</td>\n      <td>0.0</td>\n      <td>0.0</td>\n      <td>-3.0</td>\n      <td>0.053841</td>\n      <td>0.000000</td>\n    </tr>\n    <tr>\n      <th>1</th>\n      <td>333291</td>\n      <td>2017-07-02 00:00:00</td>\n      <td>243253</td>\n      <td>0</td>\n      <td>105960</td>\n      <td>11085</td>\n      <td>5</td>\n      <td>NaN</td>\n      <td>8.0</td>\n      <td>0</td>\n      <td>2.0</td>\n      <td>2.0</td>\n      <td>NaN</td>\n      <td>0</td>\n      <td>0</td>\n      <td>2</td>\n      <td>6</td>\n      <td>7</td>\n      <td>0</td>\n      <td>0.000000</td>\n      <td>0.0</td>\n      <td>11.0</td>\n      <td>0.017626</td>\n      <td>32672</td>\n      <td>1853670</td>\n      <td>0.018257</td>\n      <td>62319</td>\n      <td>3413502</td>\n      <td>0.017553</td>\n      <td>2729</td>\n      <td>155471</td>\n      <td>-1.000000</td>\n      <td>-1.0</td>\n      <td>-1.0</td>\n      <td>0.0</td>\n      <td>0.0</td>\n      <td>42.0</td>\n      <td>-1.0</td>\n      <td>-1.0</td>\n      <td>-1.0</td>\n      <td>0.017464</td>\n      <td>2333</td>\n      <td>133591</td>\n      <td>0.017825</td>\n      <td>4245</td>\n      <td>238151</td>\n      <td>0.018553</td>\n      <td>242</td>\n      <td>13044</td>\n      <td>-1.0</td>\n      <td>-1.0</td>\n      <td>-1.0</td>\n      <td>0.0</td>\n      <td>0.0</td>\n      <td>10.0</td>\n      <td>-1.0</td>\n      <td>-1.0</td>\n      <td>-1.0</td>\n      <td>11.0</td>\n      <td>1820998</td>\n      <td>3351183</td>\n      <td>152742</td>\n      <td>0.0</td>\n      <td>42.0</td>\n      <td>0.0</td>\n      <td>131258</td>\n      <td>233906</td>\n      <td>12802</td>\n      <td>0.0</td>\n      <td>10.0</td>\n      <td>0.0</td>\n      <td>-2.0</td>\n      <td>0.053841</td>\n      <td>-2.000000</td>\n    </tr>\n    <tr>\n      <th>2</th>\n      <td>129781</td>\n      <td>2017-07-02 00:00:00</td>\n      <td>243253</td>\n      <td>0</td>\n      <td>359520</td>\n      <td>13787</td>\n      <td>4</td>\n      <td>NaN</td>\n      <td>8.0</td>\n      <td>0</td>\n      <td>2.0</td>\n      <td>2.0</td>\n      <td>NaN</td>\n      <td>0</td>\n      <td>0</td>\n      <td>2</td>\n      <td>6</td>\n      <td>7</td>\n      <td>0</td>\n      <td>0.000000</td>\n      <td>0.0</td>\n      <td>11.0</td>\n      <td>0.017626</td>\n      <td>32672</td>\n      <td>1853670</td>\n      <td>0.018257</td>\n      <td>62319</td>\n      <td>3413502</td>\n      <td>0.017553</td>\n      <td>2729</td>\n      <td>155471</td>\n      <td>-1.000000</td>\n      <td>-1.0</td>\n      <td>-1.0</td>\n      <td>0.0</td>\n      <td>0.0</td>\n      <td>42.0</td>\n      <td>-1.0</td>\n      <td>-1.0</td>\n      <td>-1.0</td>\n      <td>0.017464</td>\n      <td>2333</td>\n      <td>133591</td>\n      <td>0.017825</td>\n      <td>4245</td>\n      <td>238151</td>\n      <td>0.018553</td>\n      <td>242</td>\n      <td>13044</td>\n      <td>-1.0</td>\n      <td>-1.0</td>\n      <td>-1.0</td>\n      <td>0.0</td>\n      <td>0.0</td>\n      <td>10.0</td>\n      <td>-1.0</td>\n      <td>-1.0</td>\n      <td>-1.0</td>\n      <td>11.0</td>\n      <td>1820998</td>\n      <td>3351183</td>\n      <td>152742</td>\n      <td>0.0</td>\n      <td>42.0</td>\n      <td>0.0</td>\n      <td>131258</td>\n      <td>233906</td>\n      <td>12802</td>\n      <td>0.0</td>\n      <td>10.0</td>\n      <td>0.0</td>\n      <td>-2.0</td>\n      <td>0.053841</td>\n      <td>-2.000000</td>\n    </tr>\n    <tr>\n      <th>3</th>\n      <td>464848</td>\n      <td>2017-07-02 00:00:00</td>\n      <td>1097446</td>\n      <td>1</td>\n      <td>359520</td>\n      <td>13787</td>\n      <td>3</td>\n      <td>NaN</td>\n      <td>3.0</td>\n      <td>1</td>\n      <td>3.0</td>\n      <td>3.0</td>\n      <td>2.0</td>\n      <td>1</td>\n      <td>0</td>\n      <td>2</td>\n      <td>6</td>\n      <td>7</td>\n      <td>0</td>\n      <td>0.111111</td>\n      <td>1.0</td>\n      <td>9.0</td>\n      <td>0.017626</td>\n      <td>32672</td>\n      <td>1853670</td>\n      <td>0.018257</td>\n      <td>62319</td>\n      <td>3413502</td>\n      <td>0.017553</td>\n      <td>2729</td>\n      <td>155471</td>\n      <td>0.000000</td>\n      <td>0.0</td>\n      <td>2.0</td>\n      <td>0.0</td>\n      <td>0.0</td>\n      <td>8.0</td>\n      <td>-1.0</td>\n      <td>-1.0</td>\n      <td>-1.0</td>\n      <td>0.017303</td>\n      <td>2297</td>\n      <td>132748</td>\n      <td>0.017131</td>\n      <td>4037</td>\n      <td>235660</td>\n      <td>0.017887</td>\n      <td>182</td>\n      <td>10175</td>\n      <td>-1.0</td>\n      <td>-1.0</td>\n      <td>-1.0</td>\n      <td>0.0</td>\n      <td>0.0</td>\n      <td>1.0</td>\n      <td>-1.0</td>\n      <td>-1.0</td>\n      <td>-1.0</td>\n      <td>8.0</td>\n      <td>1820998</td>\n      <td>3351183</td>\n      <td>152742</td>\n      <td>2.0</td>\n      <td>8.0</td>\n      <td>0.0</td>\n      <td>130451</td>\n      <td>231623</td>\n      <td>9993</td>\n      <td>0.0</td>\n      <td>1.0</td>\n      <td>0.0</td>\n      <td>-2.0</td>\n      <td>0.052321</td>\n      <td>-1.000000</td>\n    </tr>\n    <tr>\n      <th>4</th>\n      <td>90569</td>\n      <td>2017-07-02 00:01:00</td>\n      <td>663656</td>\n      <td>0</td>\n      <td>405490</td>\n      <td>60305</td>\n      <td>3</td>\n      <td>NaN</td>\n      <td>2.0</td>\n      <td>1</td>\n      <td>2.0</td>\n      <td>3.0</td>\n      <td>2.0</td>\n      <td>1</td>\n      <td>0</td>\n      <td>2</td>\n      <td>6</td>\n      <td>7</td>\n      <td>0</td>\n      <td>0.000000</td>\n      <td>0.0</td>\n      <td>3.0</td>\n      <td>0.017626</td>\n      <td>32672</td>\n      <td>1853670</td>\n      <td>0.018257</td>\n      <td>62319</td>\n      <td>3413502</td>\n      <td>0.017553</td>\n      <td>2729</td>\n      <td>155471</td>\n      <td>0.043478</td>\n      <td>2.0</td>\n      <td>46.0</td>\n      <td>-1.0</td>\n      <td>-1.0</td>\n      <td>-1.0</td>\n      <td>-1.0</td>\n      <td>-1.0</td>\n      <td>-1.0</td>\n      <td>0.017464</td>\n      <td>2333</td>\n      <td>133591</td>\n      <td>0.017825</td>\n      <td>4245</td>\n      <td>238151</td>\n      <td>0.018553</td>\n      <td>242</td>\n      <td>13044</td>\n      <td>0.0</td>\n      <td>0.0</td>\n      <td>3.0</td>\n      <td>-1.0</td>\n      <td>-1.0</td>\n      <td>-1.0</td>\n      <td>-1.0</td>\n      <td>-1.0</td>\n      <td>-1.0</td>\n      <td>3.0</td>\n      <td>1820998</td>\n      <td>3351183</td>\n      <td>152742</td>\n      <td>44.0</td>\n      <td>0.0</td>\n      <td>0.0</td>\n      <td>131258</td>\n      <td>233906</td>\n      <td>12802</td>\n      <td>3.0</td>\n      <td>0.0</td>\n      <td>0.0</td>\n      <td>-2.0</td>\n      <td>0.053841</td>\n      <td>-1.956522</td>\n    </tr>\n  </tbody>\n</table>\n</div>"
          },
          "metadata": {}
        }
      ]
    },
    {
      "metadata": {
        "trusted": true,
        "_uuid": "a750a612af2fbb94e0ee78ef013af319e591bebb"
      },
      "cell_type": "code",
      "source": "print(test_df.shape)\nprint(100 *test_df.shape[0] / train_df.shape[0])\ntest_df.head()\n#train to test ratio\n",
      "execution_count": 4,
      "outputs": [
        {
          "output_type": "stream",
          "text": "(128858, 73)\n27.813620381142737\n",
          "name": "stdout"
        },
        {
          "output_type": "execute_result",
          "execution_count": 4,
          "data": {
            "text/plain": "   session_id   DateTime  user_id  product  campaign_id  webpage_id  \\\n0      411705 2017-07-08   732573        8       404347       53587   \n1      208263 2017-07-08   172910        1       118601       28529   \n2      239450 2017-07-08   172910        1       118601       28529   \n3      547761 2017-07-08   557318        6       118601       28529   \n4      574275 2017-07-08   923896        3       118601       28529   \n\n   product_category_1  product_category_2  user_group_id  gender  age_level  \\\n0                   1                 NaN            5.0       1        5.0   \n1                   3             82527.0            NaN      -1        NaN   \n2                   4             82527.0            NaN      -1        NaN   \n3                   5             82527.0            1.0       1        1.0   \n4                   5             82527.0            9.0       0        3.0   \n\n   user_depth  city_development_index  var_1  day  dayofweek  month  hour  \\\n0         3.0                     NaN      0    8          5      7     0   \n1         NaN                     NaN      1    8          5      7     0   \n2         NaN                     NaN      1    8          5      7     0   \n3         3.0                     1.0      0    8          5      7     0   \n4         1.0                     NaN      1    8          5      7     0   \n\n   action_mean  action_sum  action_count  action_month_mean  action_month_sum  \\\n0        -1.00        -1.0          -1.0           0.017626             32672   \n1         0.25         1.0           4.0           0.017626             32672   \n2         0.25         1.0           4.0           0.017626             32672   \n3        -1.00        -1.0          -1.0           0.017626             32672   \n4        -1.00        -1.0          -1.0           0.017626             32672   \n\n   action_month_count  action_dayofweek_mean  action_dayofweek_sum  \\\n0             1853670                 0.0178                 59849   \n1             1853670                 0.0178                 59849   \n2             1853670                 0.0178                 59849   \n3             1853670                 0.0178                 59849   \n4             1853670                 0.0178                 59849   \n\n   action_dayofweek_count  action_hour_mean  action_hour_sum  \\\n0                 3362265          0.017553             2729   \n1                 3362265          0.017553             2729   \n2                 3362265          0.017553             2729   \n3                 3362265          0.017553             2729   \n4                 3362265          0.017553             2729   \n\n   action_hour_count  action_usermonth_mean  action_usermonth_sum  \\\n0             155471                   -1.0                  -1.0   \n1             155471                    0.0                   0.0   \n2             155471                    0.0                   0.0   \n3             155471                   -1.0                  -1.0   \n4             155471                   -1.0                  -1.0   \n\n   action_usermonth_count  action_userdayofweek_mean  \\\n0                    -1.0                       -1.0   \n1                    14.0                        0.0   \n2                    14.0                        0.0   \n3                    -1.0                       -1.0   \n4                    -1.0                       -1.0   \n\n   action_userdayofweek_sum  action_userdayofweek_count  action_userhour_mean  \\\n0                      -1.0                        -1.0                  -1.0   \n1                       0.0                        14.0                  -1.0   \n2                       0.0                        14.0                  -1.0   \n3                      -1.0                        -1.0                   0.0   \n4                      -1.0                        -1.0                  -1.0   \n\n   action_userhour_sum  action_userhour_count  action_productmonth_mean  \\\n0                 -1.0                   -1.0                  0.014201   \n1                 -1.0                   -1.0                  0.017303   \n2                 -1.0                   -1.0                  0.017303   \n3                  0.0                   10.0                  0.016383   \n4                 -1.0                   -1.0                  0.014321   \n\n   action_productmonth_sum  action_productmonth_count  \\\n0                       24                       1690   \n1                     2297                     132748   \n2                     2297                     132748   \n3                     2123                     129585   \n4                     9026                     630264   \n\n   action_productdayofweek_mean  action_productdayofweek_sum  \\\n0                      0.013514                           45   \n1                      0.017308                         4144   \n2                      0.017308                         4144   \n3                      0.016652                         3954   \n4                      0.014355                        16090   \n\n   action_productdayofweek_count  action_producthour_mean  \\\n0                           3330                 0.017182   \n1                         239433                 0.017887   \n2                         239433                 0.017887   \n3                         237449                 0.015185   \n4                        1120868                 0.014605   \n\n   action_producthour_sum  action_producthour_count  \\\n0                       5                       291   \n1                     182                     10175   \n2                     182                     10175   \n3                     159                     10471   \n4                     821                     56212   \n\n   action_userproductmonth_mean  action_userproductmonth_sum  \\\n0                          -1.0                         -1.0   \n1                          -1.0                         -1.0   \n2                          -1.0                         -1.0   \n3                          -1.0                         -1.0   \n4                          -1.0                         -1.0   \n\n   action_userproductmonth_count  action_userproductdayofweek_mean  \\\n0                           -1.0                              -1.0   \n1                           -1.0                              -1.0   \n2                           -1.0                              -1.0   \n3                           -1.0                              -1.0   \n4                           -1.0                              -1.0   \n\n   action_userproductdayofweek_sum  action_userproductdayofweek_count  \\\n0                             -1.0                               -1.0   \n1                             -1.0                               -1.0   \n2                             -1.0                               -1.0   \n3                             -1.0                               -1.0   \n4                             -1.0                               -1.0   \n\n   action_userproducthour_mean  action_userproducthour_sum  \\\n0                         -1.0                        -1.0   \n1                         -1.0                        -1.0   \n2                         -1.0                        -1.0   \n3                         -1.0                        -1.0   \n4                         -1.0                        -1.0   \n\n   action_userproducthour_count  action_viewsum  action_month_viewsum  \\\n0                          -1.0             0.0               1820998   \n1                          -1.0             3.0               1820998   \n2                          -1.0             3.0               1820998   \n3                          -1.0             0.0               1820998   \n4                          -1.0             0.0               1820998   \n\n   action_dayofweek_viewsum  action_hour_viewsum  action_usermonth_viewsum  \\\n0                   3302416               152742                       0.0   \n1                   3302416               152742                      14.0   \n2                   3302416               152742                      14.0   \n3                   3302416               152742                       0.0   \n4                   3302416               152742                       0.0   \n\n   action_userdayofweek_viewsum  action_userhour_viewsum  \\\n0                           0.0                      0.0   \n1                          14.0                      0.0   \n2                          14.0                      0.0   \n3                           0.0                     10.0   \n4                           0.0                      0.0   \n\n   action_productmonth_viewsum  action_productdayofweek_viewsum  \\\n0                         1666                             3285   \n1                       130451                           235289   \n2                       130451                           235289   \n3                       127462                           233495   \n4                       621238                          1104778   \n\n   action_producthour_viewsum  action_userproductmonth_viewsum  \\\n0                         286                              0.0   \n1                        9993                              0.0   \n2                        9993                              0.0   \n3                       10312                              0.0   \n4                       55391                              0.0   \n\n   action_userproductdayofweek_viewsum  action_userproducthour_viewsum  \\\n0                                  0.0                             0.0   \n1                                  0.0                             0.0   \n2                                  0.0                             0.0   \n3                                  0.0                             0.0   \n4                                  0.0                             0.0   \n\n   action_userproduct_date_mean_total  action_product_date_mean_total  \\\n0                                -6.0                        0.089794   \n1                                -6.0                        0.104996   \n2                                -6.0                        0.104996   \n3                                -6.0                        0.096440   \n4                                -6.0                        0.086563   \n\n   action_user_date_mean_total  \n0                         -6.0  \n1                         -2.0  \n2                         -2.0  \n3                         -4.0  \n4                         -6.0  ",
            "text/html": "<div>\n<style scoped>\n    .dataframe tbody tr th:only-of-type {\n        vertical-align: middle;\n    }\n\n    .dataframe tbody tr th {\n        vertical-align: top;\n    }\n\n    .dataframe thead th {\n        text-align: right;\n    }\n</style>\n<table border=\"1\" class=\"dataframe\">\n  <thead>\n    <tr style=\"text-align: right;\">\n      <th></th>\n      <th>session_id</th>\n      <th>DateTime</th>\n      <th>user_id</th>\n      <th>product</th>\n      <th>campaign_id</th>\n      <th>webpage_id</th>\n      <th>product_category_1</th>\n      <th>product_category_2</th>\n      <th>user_group_id</th>\n      <th>gender</th>\n      <th>age_level</th>\n      <th>user_depth</th>\n      <th>city_development_index</th>\n      <th>var_1</th>\n      <th>day</th>\n      <th>dayofweek</th>\n      <th>month</th>\n      <th>hour</th>\n      <th>action_mean</th>\n      <th>action_sum</th>\n      <th>action_count</th>\n      <th>action_month_mean</th>\n      <th>action_month_sum</th>\n      <th>action_month_count</th>\n      <th>action_dayofweek_mean</th>\n      <th>action_dayofweek_sum</th>\n      <th>action_dayofweek_count</th>\n      <th>action_hour_mean</th>\n      <th>action_hour_sum</th>\n      <th>action_hour_count</th>\n      <th>action_usermonth_mean</th>\n      <th>action_usermonth_sum</th>\n      <th>action_usermonth_count</th>\n      <th>action_userdayofweek_mean</th>\n      <th>action_userdayofweek_sum</th>\n      <th>action_userdayofweek_count</th>\n      <th>action_userhour_mean</th>\n      <th>action_userhour_sum</th>\n      <th>action_userhour_count</th>\n      <th>action_productmonth_mean</th>\n      <th>action_productmonth_sum</th>\n      <th>action_productmonth_count</th>\n      <th>action_productdayofweek_mean</th>\n      <th>action_productdayofweek_sum</th>\n      <th>action_productdayofweek_count</th>\n      <th>action_producthour_mean</th>\n      <th>action_producthour_sum</th>\n      <th>action_producthour_count</th>\n      <th>action_userproductmonth_mean</th>\n      <th>action_userproductmonth_sum</th>\n      <th>action_userproductmonth_count</th>\n      <th>action_userproductdayofweek_mean</th>\n      <th>action_userproductdayofweek_sum</th>\n      <th>action_userproductdayofweek_count</th>\n      <th>action_userproducthour_mean</th>\n      <th>action_userproducthour_sum</th>\n      <th>action_userproducthour_count</th>\n      <th>action_viewsum</th>\n      <th>action_month_viewsum</th>\n      <th>action_dayofweek_viewsum</th>\n      <th>action_hour_viewsum</th>\n      <th>action_usermonth_viewsum</th>\n      <th>action_userdayofweek_viewsum</th>\n      <th>action_userhour_viewsum</th>\n      <th>action_productmonth_viewsum</th>\n      <th>action_productdayofweek_viewsum</th>\n      <th>action_producthour_viewsum</th>\n      <th>action_userproductmonth_viewsum</th>\n      <th>action_userproductdayofweek_viewsum</th>\n      <th>action_userproducthour_viewsum</th>\n      <th>action_userproduct_date_mean_total</th>\n      <th>action_product_date_mean_total</th>\n      <th>action_user_date_mean_total</th>\n    </tr>\n  </thead>\n  <tbody>\n    <tr>\n      <th>0</th>\n      <td>411705</td>\n      <td>2017-07-08</td>\n      <td>732573</td>\n      <td>8</td>\n      <td>404347</td>\n      <td>53587</td>\n      <td>1</td>\n      <td>NaN</td>\n      <td>5.0</td>\n      <td>1</td>\n      <td>5.0</td>\n      <td>3.0</td>\n      <td>NaN</td>\n      <td>0</td>\n      <td>8</td>\n      <td>5</td>\n      <td>7</td>\n      <td>0</td>\n      <td>-1.00</td>\n      <td>-1.0</td>\n      <td>-1.0</td>\n      <td>0.017626</td>\n      <td>32672</td>\n      <td>1853670</td>\n      <td>0.0178</td>\n      <td>59849</td>\n      <td>3362265</td>\n      <td>0.017553</td>\n      <td>2729</td>\n      <td>155471</td>\n      <td>-1.0</td>\n      <td>-1.0</td>\n      <td>-1.0</td>\n      <td>-1.0</td>\n      <td>-1.0</td>\n      <td>-1.0</td>\n      <td>-1.0</td>\n      <td>-1.0</td>\n      <td>-1.0</td>\n      <td>0.014201</td>\n      <td>24</td>\n      <td>1690</td>\n      <td>0.013514</td>\n      <td>45</td>\n      <td>3330</td>\n      <td>0.017182</td>\n      <td>5</td>\n      <td>291</td>\n      <td>-1.0</td>\n      <td>-1.0</td>\n      <td>-1.0</td>\n      <td>-1.0</td>\n      <td>-1.0</td>\n      <td>-1.0</td>\n      <td>-1.0</td>\n      <td>-1.0</td>\n      <td>-1.0</td>\n      <td>0.0</td>\n      <td>1820998</td>\n      <td>3302416</td>\n      <td>152742</td>\n      <td>0.0</td>\n      <td>0.0</td>\n      <td>0.0</td>\n      <td>1666</td>\n      <td>3285</td>\n      <td>286</td>\n      <td>0.0</td>\n      <td>0.0</td>\n      <td>0.0</td>\n      <td>-6.0</td>\n      <td>0.089794</td>\n      <td>-6.0</td>\n    </tr>\n    <tr>\n      <th>1</th>\n      <td>208263</td>\n      <td>2017-07-08</td>\n      <td>172910</td>\n      <td>1</td>\n      <td>118601</td>\n      <td>28529</td>\n      <td>3</td>\n      <td>82527.0</td>\n      <td>NaN</td>\n      <td>-1</td>\n      <td>NaN</td>\n      <td>NaN</td>\n      <td>NaN</td>\n      <td>1</td>\n      <td>8</td>\n      <td>5</td>\n      <td>7</td>\n      <td>0</td>\n      <td>0.25</td>\n      <td>1.0</td>\n      <td>4.0</td>\n      <td>0.017626</td>\n      <td>32672</td>\n      <td>1853670</td>\n      <td>0.0178</td>\n      <td>59849</td>\n      <td>3362265</td>\n      <td>0.017553</td>\n      <td>2729</td>\n      <td>155471</td>\n      <td>0.0</td>\n      <td>0.0</td>\n      <td>14.0</td>\n      <td>0.0</td>\n      <td>0.0</td>\n      <td>14.0</td>\n      <td>-1.0</td>\n      <td>-1.0</td>\n      <td>-1.0</td>\n      <td>0.017303</td>\n      <td>2297</td>\n      <td>132748</td>\n      <td>0.017308</td>\n      <td>4144</td>\n      <td>239433</td>\n      <td>0.017887</td>\n      <td>182</td>\n      <td>10175</td>\n      <td>-1.0</td>\n      <td>-1.0</td>\n      <td>-1.0</td>\n      <td>-1.0</td>\n      <td>-1.0</td>\n      <td>-1.0</td>\n      <td>-1.0</td>\n      <td>-1.0</td>\n      <td>-1.0</td>\n      <td>3.0</td>\n      <td>1820998</td>\n      <td>3302416</td>\n      <td>152742</td>\n      <td>14.0</td>\n      <td>14.0</td>\n      <td>0.0</td>\n      <td>130451</td>\n      <td>235289</td>\n      <td>9993</td>\n      <td>0.0</td>\n      <td>0.0</td>\n      <td>0.0</td>\n      <td>-6.0</td>\n      <td>0.104996</td>\n      <td>-2.0</td>\n    </tr>\n    <tr>\n      <th>2</th>\n      <td>239450</td>\n      <td>2017-07-08</td>\n      <td>172910</td>\n      <td>1</td>\n      <td>118601</td>\n      <td>28529</td>\n      <td>4</td>\n      <td>82527.0</td>\n      <td>NaN</td>\n      <td>-1</td>\n      <td>NaN</td>\n      <td>NaN</td>\n      <td>NaN</td>\n      <td>1</td>\n      <td>8</td>\n      <td>5</td>\n      <td>7</td>\n      <td>0</td>\n      <td>0.25</td>\n      <td>1.0</td>\n      <td>4.0</td>\n      <td>0.017626</td>\n      <td>32672</td>\n      <td>1853670</td>\n      <td>0.0178</td>\n      <td>59849</td>\n      <td>3362265</td>\n      <td>0.017553</td>\n      <td>2729</td>\n      <td>155471</td>\n      <td>0.0</td>\n      <td>0.0</td>\n      <td>14.0</td>\n      <td>0.0</td>\n      <td>0.0</td>\n      <td>14.0</td>\n      <td>-1.0</td>\n      <td>-1.0</td>\n      <td>-1.0</td>\n      <td>0.017303</td>\n      <td>2297</td>\n      <td>132748</td>\n      <td>0.017308</td>\n      <td>4144</td>\n      <td>239433</td>\n      <td>0.017887</td>\n      <td>182</td>\n      <td>10175</td>\n      <td>-1.0</td>\n      <td>-1.0</td>\n      <td>-1.0</td>\n      <td>-1.0</td>\n      <td>-1.0</td>\n      <td>-1.0</td>\n      <td>-1.0</td>\n      <td>-1.0</td>\n      <td>-1.0</td>\n      <td>3.0</td>\n      <td>1820998</td>\n      <td>3302416</td>\n      <td>152742</td>\n      <td>14.0</td>\n      <td>14.0</td>\n      <td>0.0</td>\n      <td>130451</td>\n      <td>235289</td>\n      <td>9993</td>\n      <td>0.0</td>\n      <td>0.0</td>\n      <td>0.0</td>\n      <td>-6.0</td>\n      <td>0.104996</td>\n      <td>-2.0</td>\n    </tr>\n    <tr>\n      <th>3</th>\n      <td>547761</td>\n      <td>2017-07-08</td>\n      <td>557318</td>\n      <td>6</td>\n      <td>118601</td>\n      <td>28529</td>\n      <td>5</td>\n      <td>82527.0</td>\n      <td>1.0</td>\n      <td>1</td>\n      <td>1.0</td>\n      <td>3.0</td>\n      <td>1.0</td>\n      <td>0</td>\n      <td>8</td>\n      <td>5</td>\n      <td>7</td>\n      <td>0</td>\n      <td>-1.00</td>\n      <td>-1.0</td>\n      <td>-1.0</td>\n      <td>0.017626</td>\n      <td>32672</td>\n      <td>1853670</td>\n      <td>0.0178</td>\n      <td>59849</td>\n      <td>3362265</td>\n      <td>0.017553</td>\n      <td>2729</td>\n      <td>155471</td>\n      <td>-1.0</td>\n      <td>-1.0</td>\n      <td>-1.0</td>\n      <td>-1.0</td>\n      <td>-1.0</td>\n      <td>-1.0</td>\n      <td>0.0</td>\n      <td>0.0</td>\n      <td>10.0</td>\n      <td>0.016383</td>\n      <td>2123</td>\n      <td>129585</td>\n      <td>0.016652</td>\n      <td>3954</td>\n      <td>237449</td>\n      <td>0.015185</td>\n      <td>159</td>\n      <td>10471</td>\n      <td>-1.0</td>\n      <td>-1.0</td>\n      <td>-1.0</td>\n      <td>-1.0</td>\n      <td>-1.0</td>\n      <td>-1.0</td>\n      <td>-1.0</td>\n      <td>-1.0</td>\n      <td>-1.0</td>\n      <td>0.0</td>\n      <td>1820998</td>\n      <td>3302416</td>\n      <td>152742</td>\n      <td>0.0</td>\n      <td>0.0</td>\n      <td>10.0</td>\n      <td>127462</td>\n      <td>233495</td>\n      <td>10312</td>\n      <td>0.0</td>\n      <td>0.0</td>\n      <td>0.0</td>\n      <td>-6.0</td>\n      <td>0.096440</td>\n      <td>-4.0</td>\n    </tr>\n    <tr>\n      <th>4</th>\n      <td>574275</td>\n      <td>2017-07-08</td>\n      <td>923896</td>\n      <td>3</td>\n      <td>118601</td>\n      <td>28529</td>\n      <td>5</td>\n      <td>82527.0</td>\n      <td>9.0</td>\n      <td>0</td>\n      <td>3.0</td>\n      <td>1.0</td>\n      <td>NaN</td>\n      <td>1</td>\n      <td>8</td>\n      <td>5</td>\n      <td>7</td>\n      <td>0</td>\n      <td>-1.00</td>\n      <td>-1.0</td>\n      <td>-1.0</td>\n      <td>0.017626</td>\n      <td>32672</td>\n      <td>1853670</td>\n      <td>0.0178</td>\n      <td>59849</td>\n      <td>3362265</td>\n      <td>0.017553</td>\n      <td>2729</td>\n      <td>155471</td>\n      <td>-1.0</td>\n      <td>-1.0</td>\n      <td>-1.0</td>\n      <td>-1.0</td>\n      <td>-1.0</td>\n      <td>-1.0</td>\n      <td>-1.0</td>\n      <td>-1.0</td>\n      <td>-1.0</td>\n      <td>0.014321</td>\n      <td>9026</td>\n      <td>630264</td>\n      <td>0.014355</td>\n      <td>16090</td>\n      <td>1120868</td>\n      <td>0.014605</td>\n      <td>821</td>\n      <td>56212</td>\n      <td>-1.0</td>\n      <td>-1.0</td>\n      <td>-1.0</td>\n      <td>-1.0</td>\n      <td>-1.0</td>\n      <td>-1.0</td>\n      <td>-1.0</td>\n      <td>-1.0</td>\n      <td>-1.0</td>\n      <td>0.0</td>\n      <td>1820998</td>\n      <td>3302416</td>\n      <td>152742</td>\n      <td>0.0</td>\n      <td>0.0</td>\n      <td>0.0</td>\n      <td>621238</td>\n      <td>1104778</td>\n      <td>55391</td>\n      <td>0.0</td>\n      <td>0.0</td>\n      <td>0.0</td>\n      <td>-6.0</td>\n      <td>0.086563</td>\n      <td>-6.0</td>\n    </tr>\n  </tbody>\n</table>\n</div>"
          },
          "metadata": {}
        }
      ]
    },
    {
      "metadata": {
        "trusted": true,
        "_uuid": "6130bab8a3238619ef361b169bf031827ad7422a"
      },
      "cell_type": "code",
      "source": "targetcol='is_click'",
      "execution_count": 7,
      "outputs": []
    },
    {
      "metadata": {
        "trusted": true,
        "_uuid": "670d5be56f530e06991458529560af85460f67c3"
      },
      "cell_type": "code",
      "source": "train_df[targetcol] = train_df[targetcol].astype('int32')",
      "execution_count": 8,
      "outputs": []
    },
    {
      "metadata": {
        "trusted": true,
        "_uuid": "65c43aec03959c1280171a2ef016c01299af8db6"
      },
      "cell_type": "code",
      "source": "train_df.dtypes",
      "execution_count": 9,
      "outputs": [
        {
          "output_type": "execute_result",
          "execution_count": 9,
          "data": {
            "text/plain": "session_id                                      int64\nDateTime                               datetime64[ns]\nuser_id                                         int64\nproduct                                         int64\ncampaign_id                                     int64\nwebpage_id                                      int64\nproduct_category_1                              int64\nproduct_category_2                            float64\nuser_group_id                                 float64\ngender                                          int64\nage_level                                     float64\nuser_depth                                    float64\ncity_development_index                        float64\nvar_1                                           int64\nis_click                                        int32\nday                                             int64\ndayofweek                                       int64\nmonth                                           int64\nhour                                            int64\naction_mean                                   float64\naction_sum                                    float64\naction_count                                  float64\naction_month_mean                             float64\naction_month_sum                                int64\naction_month_count                              int64\naction_dayofweek_mean                         float64\naction_dayofweek_sum                            int64\naction_dayofweek_count                          int64\naction_hour_mean                              float64\naction_hour_sum                                 int64\naction_hour_count                               int64\naction_usermonth_mean                         float64\naction_usermonth_sum                          float64\naction_usermonth_count                        float64\naction_userdayofweek_mean                     float64\naction_userdayofweek_sum                      float64\naction_userdayofweek_count                    float64\naction_userhour_mean                          float64\naction_userhour_sum                           float64\naction_userhour_count                         float64\naction_productmonth_mean                      float64\naction_productmonth_sum                         int64\naction_productmonth_count                       int64\naction_productdayofweek_mean                  float64\naction_productdayofweek_sum                     int64\naction_productdayofweek_count                   int64\naction_producthour_mean                       float64\naction_producthour_sum                          int64\naction_producthour_count                        int64\naction_userproductmonth_mean                  float64\naction_userproductmonth_sum                   float64\naction_userproductmonth_count                 float64\naction_userproductdayofweek_mean              float64\naction_userproductdayofweek_sum               float64\naction_userproductdayofweek_count             float64\naction_userproducthour_mean                   float64\naction_userproducthour_sum                    float64\naction_userproducthour_count                  float64\naction_viewsum                                float64\naction_month_viewsum                            int64\naction_dayofweek_viewsum                        int64\naction_hour_viewsum                             int64\naction_usermonth_viewsum                      float64\naction_userdayofweek_viewsum                  float64\naction_userhour_viewsum                       float64\naction_productmonth_viewsum                     int64\naction_productdayofweek_viewsum                 int64\naction_producthour_viewsum                      int64\naction_userproductmonth_viewsum               float64\naction_userproductdayofweek_viewsum           float64\naction_userproducthour_viewsum                float64\naction_userproduct_date_mean_total            float64\naction_product_date_mean_total                float64\naction_user_date_mean_total                   float64\ndtype: object"
          },
          "metadata": {}
        }
      ]
    },
    {
      "metadata": {
        "trusted": true,
        "_uuid": "b566fd0d46435b8a21b502bfd42d106836cb204c"
      },
      "cell_type": "code",
      "source": "def getenccolname(colname):\n    return \"targetenc_\"+colname\n#     return \"targetvarenc_\"+colname\n#Target Encoding on categorical features\ndef targetencode(train,test,catcolnames,targetcolname):\n    #Target Encoding\n#     if train.index[0]!=0:\n#         print('Caution: train index will be reset')\n#         train.reset_index(inplace=True)\n#         del train['index']\n#     if test.index[0]!=0:\n#         print('Caution: test index will be reset')\n#         test.reset_index(inplace=True)\n#         del test['index']\n        \n    cols_agg = ['mean']\n#     cols_agg = ['var']\n    mean_col_index = 0\n\n    kfdata = KFold(n_splits = 5, shuffle = False, random_state = 123)\n    labels = train[targetcolname]\n    indices= kfdata.split(train,labels)\n#     kf = KFold(n_splits=5, shuffle=False,random_state=123)\n    # kfdata= kf.split(all_data,all_data[cols_target].values)\n\n    fold=1\n    for train_rowno, val_rowno in tqdm(indices):\n        print(\"******************\")\n        print(\"FOLD:\",fold)\n        print(\"******************\")\n        X_tr, X_val = train.iloc[train_rowno],train.iloc[val_rowno] \n        train_index = X_tr.index\n        val_index = X_val.index\n        print('valid index:', val_index)\n        print('train index:', train_index)\n       # In our non-regularized case we just *map* the computed means to the `item_id`'s\n        for curcol in tqdm(catcolnames):\n                islisttype = (type(curcol)==type([]))\n                print('curcol=',curcol)\n                otherfolds_enc = X_tr.groupby(curcol)[targetcolname].agg(cols_agg)\n                if (islisttype):\n                    cols = '_'.join(curcol)\n                else:\n                    cols = curcol\n                enccol = getenccolname(cols)\n                otherfolds_enc.columns = [enccol]\n                # Assign the new encoded columns (mean, min, max) to training set by \n                # performing mapping on the group by columns on the target encoded data\n                if (islisttype):\n                      # caution: the below code resets the index of train data\n                    abcdefgh = 100\n#                     train[val_index]= pd.merge(train[val_index].reset_index(drop=True),otherfolds_enc.reset_index(drop=True),on=curcol,how='left')\n                else:\n#                     train.iloc[val_index][enccol] = X_val[curcol].map(otherfolds_enc[enccol])\n                    train.loc[val_index, enccol] = X_val[curcol].map(otherfolds_enc[enccol])\n                del otherfolds_enc\n                gc.collect()\n        del X_tr,X_val\n        gc.collect() \n        fold+=1\n    \n\n    enc_colnames=[getenccolname(col) for col in catcolnames]\n\n    print()\n    print('Fill NA Start')\n    # Fill NaNs of rare categories of train with global mean\n    for i,enccol in enumerate(enc_colnames):\n        islisttype = (type(curcol)==type([]))\n        global_mean= train[enccol].mean()\n        train[enccol].fillna(global_mean, inplace=True) \n#         print('i:{} test cur col:{}'.format(i,enccol))\n    #     # Populate mean encoding for test data set by mapping the train data set target mean encoding of \n    #     # corresponding group by col \n        curcol = catcolnames[i]\n        train_colenc_means = train.groupby(catcolnames[i])[enccol].mean()\n        test[enccol]= test[catcolnames[i]].map(train_colenc_means)\n        test[enccol].fillna(global_mean,inplace=True)\n\n    print(train.shape)\n    print()\n    print('Target Encoding completed')",
      "execution_count": 10,
      "outputs": []
    },
    {
      "metadata": {
        "trusted": true,
        "_uuid": "36ff3ba14f542f847827305a2784ac049173e041"
      },
      "cell_type": "code",
      "source": "def genfeats_fortargetenc(df):\n    newfeat = 'user_id#product' \n    df[newfeat] = df['user_id'].astype(str).str.cat(df['product'].astype(str),\"_\")\n    return df",
      "execution_count": 11,
      "outputs": []
    },
    {
      "metadata": {
        "trusted": true,
        "_uuid": "aa380228403c503c071f0b441f5856caa84446f9"
      },
      "cell_type": "code",
      "source": "train_df=genfeats_fortargetenc(train_df)\ntest_df=genfeats_fortargetenc(test_df)",
      "execution_count": 12,
      "outputs": []
    },
    {
      "metadata": {
        "trusted": true,
        "_uuid": "302c6a1789ef7639ec23008fe5f8791692f9dd60"
      },
      "cell_type": "code",
      "source": "#Label Encoding of new interaction feats\nnew_feats= ['user_id#product']\nfor col in new_feats:\n    print('col=',col)\n    train_df[col], indexer = pd.factorize(train_df[col])\n    test_df[col] = indexer.get_indexer(test_df[col])",
      "execution_count": 13,
      "outputs": [
        {
          "output_type": "stream",
          "text": "col= user_id#product\n",
          "name": "stdout"
        }
      ]
    },
    {
      "metadata": {
        "trusted": true,
        "_uuid": "4da6caadf02e11f990bcba5b96716272773826f4"
      },
      "cell_type": "code",
      "source": "#Target Encoding\ncat_cols=['product','gender','user_id',  'campaign_id', 'webpage_id',\n'product_category_1','product_category_2','user_group_id','var_1']\naction_interestcount_cols = [col for col in train_df.columns if ('_sum' in col) and ('action_' in col)]\naction_viewcount_cols = [col for col in train_df.columns if ('_viewsum' in col) and ('action_' in col)]\n\nnon_cat_cols =['dayofweek','month','hour']\n\naction_viewandinteresttotal_cols = [col for col in train_df.columns if ('_count' in col) and ('action_' in col)]\n\ncat_cols+= action_viewcount_cols + action_interestcount_cols  + new_feats + non_cat_cols\n\ntargetencode(train_df,test_df,cat_cols,targetcol)",
      "execution_count": 27,
      "outputs": [
        {
          "output_type": "stream",
          "text": "\r0it [00:00, ?it/s]",
          "name": "stderr"
        },
        {
          "output_type": "stream",
          "text": "******************\nFOLD: 1\n******************\n",
          "name": "stdout"
        },
        {
          "output_type": "stream",
          "text": "\n  0%|          | 0/39 [00:00<?, ?it/s]\u001b[A",
          "name": "stderr"
        },
        {
          "output_type": "stream",
          "text": "valid index: Int64Index([    0,     1,     2,     3,     4,     5,     6,     7,     8,\n                9,\n            ...\n            92649, 92650, 92651, 92652, 92653, 92654, 92655, 92656, 92657,\n            92658],\n           dtype='int64', length=92659)\ntrain index: Int64Index([ 92659,  92660,  92661,  92662,  92663,  92664,  92665,  92666,\n             92667,  92668,\n            ...\n            463281, 463282, 463283, 463284, 463285, 463286, 463287, 463288,\n            463289, 463290],\n           dtype='int64', length=370632)\ncurcol= product\n",
          "name": "stdout"
        },
        {
          "output_type": "stream",
          "text": "\n  3%|▎         | 1/39 [00:00<00:13,  2.91it/s]\u001b[A",
          "name": "stderr"
        },
        {
          "output_type": "stream",
          "text": "curcol= gender\n",
          "name": "stdout"
        },
        {
          "output_type": "stream",
          "text": "\n  5%|▌         | 2/39 [00:00<00:12,  2.96it/s]\u001b[A",
          "name": "stderr"
        },
        {
          "output_type": "stream",
          "text": "curcol= user_id\n",
          "name": "stdout"
        },
        {
          "output_type": "stream",
          "text": "\n  8%|▊         | 3/39 [00:01<00:12,  2.87it/s]\u001b[A",
          "name": "stderr"
        },
        {
          "output_type": "stream",
          "text": "curcol= campaign_id\n",
          "name": "stdout"
        },
        {
          "output_type": "stream",
          "text": "\n 10%|█         | 4/39 [00:01<00:12,  2.91it/s]\u001b[A",
          "name": "stderr"
        },
        {
          "output_type": "stream",
          "text": "curcol= webpage_id\n",
          "name": "stdout"
        },
        {
          "output_type": "stream",
          "text": "\n 13%|█▎        | 5/39 [00:01<00:11,  2.95it/s]\u001b[A",
          "name": "stderr"
        },
        {
          "output_type": "stream",
          "text": "curcol= product_category_1\n",
          "name": "stdout"
        },
        {
          "output_type": "stream",
          "text": "\n 15%|█▌        | 6/39 [00:02<00:11,  2.97it/s]\u001b[A",
          "name": "stderr"
        },
        {
          "output_type": "stream",
          "text": "curcol= product_category_2\n",
          "name": "stdout"
        },
        {
          "output_type": "stream",
          "text": "\n 18%|█▊        | 7/39 [00:02<00:10,  2.97it/s]\u001b[A",
          "name": "stderr"
        },
        {
          "output_type": "stream",
          "text": "curcol= user_group_id\n",
          "name": "stdout"
        },
        {
          "output_type": "stream",
          "text": "\n 21%|██        | 8/39 [00:02<00:10,  2.94it/s]\u001b[A",
          "name": "stderr"
        },
        {
          "output_type": "stream",
          "text": "curcol= var_1\n",
          "name": "stdout"
        },
        {
          "output_type": "stream",
          "text": "\n 23%|██▎       | 9/39 [00:03<00:10,  2.94it/s]\u001b[A",
          "name": "stderr"
        },
        {
          "output_type": "stream",
          "text": "curcol= action_viewsum\n",
          "name": "stdout"
        },
        {
          "output_type": "stream",
          "text": "\n 26%|██▌       | 10/39 [00:03<00:10,  2.89it/s]\u001b[A",
          "name": "stderr"
        },
        {
          "output_type": "stream",
          "text": "curcol= action_month_viewsum\n",
          "name": "stdout"
        },
        {
          "output_type": "stream",
          "text": "\n 28%|██▊       | 11/39 [00:03<00:09,  2.86it/s]\u001b[A",
          "name": "stderr"
        },
        {
          "output_type": "stream",
          "text": "curcol= action_dayofweek_viewsum\n",
          "name": "stdout"
        },
        {
          "output_type": "stream",
          "text": "\n 31%|███       | 12/39 [00:04<00:09,  2.82it/s]\u001b[A",
          "name": "stderr"
        },
        {
          "output_type": "stream",
          "text": "curcol= action_hour_viewsum\n",
          "name": "stdout"
        },
        {
          "output_type": "stream",
          "text": "\n 33%|███▎      | 13/39 [00:04<00:09,  2.77it/s]\u001b[A",
          "name": "stderr"
        },
        {
          "output_type": "stream",
          "text": "curcol= action_usermonth_viewsum\n",
          "name": "stdout"
        },
        {
          "output_type": "stream",
          "text": "\n 36%|███▌      | 14/39 [00:04<00:09,  2.73it/s]\u001b[A",
          "name": "stderr"
        },
        {
          "output_type": "stream",
          "text": "curcol= action_userdayofweek_viewsum\n",
          "name": "stdout"
        },
        {
          "output_type": "stream",
          "text": "\n 38%|███▊      | 15/39 [00:05<00:08,  2.69it/s]\u001b[A",
          "name": "stderr"
        },
        {
          "output_type": "stream",
          "text": "curcol= action_userhour_viewsum\n",
          "name": "stdout"
        },
        {
          "output_type": "stream",
          "text": "\n 41%|████      | 16/39 [00:05<00:08,  2.64it/s]\u001b[A",
          "name": "stderr"
        },
        {
          "output_type": "stream",
          "text": "curcol= action_productmonth_viewsum\n",
          "name": "stdout"
        },
        {
          "output_type": "stream",
          "text": "\n 44%|████▎     | 17/39 [00:06<00:08,  2.61it/s]\u001b[A",
          "name": "stderr"
        },
        {
          "output_type": "stream",
          "text": "curcol= action_productdayofweek_viewsum\n",
          "name": "stdout"
        },
        {
          "output_type": "stream",
          "text": "\n 46%|████▌     | 18/39 [00:06<00:08,  2.59it/s]\u001b[A",
          "name": "stderr"
        },
        {
          "output_type": "stream",
          "text": "curcol= action_producthour_viewsum\n",
          "name": "stdout"
        },
        {
          "output_type": "stream",
          "text": "\n 49%|████▊     | 19/39 [00:06<00:07,  2.56it/s]\u001b[A",
          "name": "stderr"
        },
        {
          "output_type": "stream",
          "text": "curcol= action_userproductmonth_viewsum\n",
          "name": "stdout"
        },
        {
          "output_type": "stream",
          "text": "\n 51%|█████▏    | 20/39 [00:07<00:07,  2.53it/s]\u001b[A",
          "name": "stderr"
        },
        {
          "output_type": "stream",
          "text": "curcol= action_userproductdayofweek_viewsum\n",
          "name": "stdout"
        },
        {
          "output_type": "stream",
          "text": "\n 54%|█████▍    | 21/39 [00:07<00:07,  2.49it/s]\u001b[A",
          "name": "stderr"
        },
        {
          "output_type": "stream",
          "text": "curcol= action_userproducthour_viewsum\n",
          "name": "stdout"
        },
        {
          "output_type": "stream",
          "text": "\n 56%|█████▋    | 22/39 [00:08<00:06,  2.46it/s]\u001b[A",
          "name": "stderr"
        },
        {
          "output_type": "stream",
          "text": "curcol= action_sum\n",
          "name": "stdout"
        },
        {
          "output_type": "stream",
          "text": "\n 59%|█████▉    | 23/39 [00:08<00:06,  2.45it/s]\u001b[A",
          "name": "stderr"
        },
        {
          "output_type": "stream",
          "text": "curcol= action_month_sum\n",
          "name": "stdout"
        },
        {
          "output_type": "stream",
          "text": "\n 62%|██████▏   | 24/39 [00:08<00:06,  2.41it/s]\u001b[A",
          "name": "stderr"
        },
        {
          "output_type": "stream",
          "text": "curcol= action_dayofweek_sum\n",
          "name": "stdout"
        },
        {
          "output_type": "stream",
          "text": "\n 64%|██████▍   | 25/39 [00:09<00:05,  2.42it/s]\u001b[A",
          "name": "stderr"
        },
        {
          "output_type": "stream",
          "text": "curcol= action_hour_sum\n",
          "name": "stdout"
        },
        {
          "output_type": "stream",
          "text": "\n 67%|██████▋   | 26/39 [00:09<00:05,  2.40it/s]\u001b[A",
          "name": "stderr"
        },
        {
          "output_type": "stream",
          "text": "curcol= action_usermonth_sum\n",
          "name": "stdout"
        },
        {
          "output_type": "stream",
          "text": "\n 69%|██████▉   | 27/39 [00:10<00:05,  2.37it/s]\u001b[A",
          "name": "stderr"
        },
        {
          "output_type": "stream",
          "text": "curcol= action_userdayofweek_sum\n",
          "name": "stdout"
        },
        {
          "output_type": "stream",
          "text": "\n 72%|███████▏  | 28/39 [00:10<00:04,  2.34it/s]\u001b[A",
          "name": "stderr"
        },
        {
          "output_type": "stream",
          "text": "curcol= action_userhour_sum\n",
          "name": "stdout"
        },
        {
          "output_type": "stream",
          "text": "\n 74%|███████▍  | 29/39 [00:11<00:04,  2.31it/s]\u001b[A",
          "name": "stderr"
        },
        {
          "output_type": "stream",
          "text": "curcol= action_productmonth_sum\n",
          "name": "stdout"
        },
        {
          "output_type": "stream",
          "text": "\n 77%|███████▋  | 30/39 [00:11<00:03,  2.28it/s]\u001b[A",
          "name": "stderr"
        },
        {
          "output_type": "stream",
          "text": "curcol= action_productdayofweek_sum\n",
          "name": "stdout"
        },
        {
          "output_type": "stream",
          "text": "\n 79%|███████▉  | 31/39 [00:12<00:03,  2.26it/s]\u001b[A",
          "name": "stderr"
        },
        {
          "output_type": "stream",
          "text": "curcol= action_producthour_sum\n",
          "name": "stdout"
        },
        {
          "output_type": "stream",
          "text": "\n 82%|████████▏ | 32/39 [00:12<00:03,  2.25it/s]\u001b[A",
          "name": "stderr"
        },
        {
          "output_type": "stream",
          "text": "curcol= action_userproductmonth_sum\n",
          "name": "stdout"
        },
        {
          "output_type": "stream",
          "text": "\n 85%|████████▍ | 33/39 [00:12<00:02,  2.22it/s]\u001b[A",
          "name": "stderr"
        },
        {
          "output_type": "stream",
          "text": "curcol= action_userproductdayofweek_sum\n",
          "name": "stdout"
        },
        {
          "output_type": "stream",
          "text": "\n 87%|████████▋ | 34/39 [00:13<00:02,  2.19it/s]\u001b[A",
          "name": "stderr"
        },
        {
          "output_type": "stream",
          "text": "curcol= action_userproducthour_sum\n",
          "name": "stdout"
        },
        {
          "output_type": "stream",
          "text": "\n 90%|████████▉ | 35/39 [00:13<00:01,  2.16it/s]\u001b[A",
          "name": "stderr"
        },
        {
          "output_type": "stream",
          "text": "curcol= user_id#product\n",
          "name": "stdout"
        },
        {
          "output_type": "stream",
          "text": "\n 92%|█████████▏| 36/39 [00:14<00:01,  2.06it/s]\u001b[A",
          "name": "stderr"
        },
        {
          "output_type": "stream",
          "text": "curcol= dayofweek\n",
          "name": "stdout"
        },
        {
          "output_type": "stream",
          "text": "\n 95%|█████████▍| 37/39 [00:14<00:00,  2.06it/s]\u001b[A",
          "name": "stderr"
        },
        {
          "output_type": "stream",
          "text": "curcol= month\n",
          "name": "stdout"
        },
        {
          "output_type": "stream",
          "text": "\n 97%|█████████▋| 38/39 [00:15<00:00,  2.06it/s]\u001b[A",
          "name": "stderr"
        },
        {
          "output_type": "stream",
          "text": "curcol= hour\n",
          "name": "stdout"
        },
        {
          "output_type": "stream",
          "text": "\n100%|██████████| 39/39 [00:15<00:00,  2.06it/s]\u001b[A\n1it [00:16, 16.19s/it]",
          "name": "stderr"
        },
        {
          "output_type": "stream",
          "text": "******************\nFOLD: 2\n******************\n",
          "name": "stdout"
        },
        {
          "output_type": "stream",
          "text": "\n  0%|          | 0/39 [00:00<?, ?it/s]\u001b[A\n  3%|▎         | 1/39 [00:00<00:04,  8.19it/s]\u001b[A",
          "name": "stderr"
        },
        {
          "output_type": "stream",
          "text": "valid index: Int64Index([ 92659,  92660,  92661,  92662,  92663,  92664,  92665,  92666,\n             92667,  92668,\n            ...\n            185307, 185308, 185309, 185310, 185311, 185312, 185313, 185314,\n            185315, 185316],\n           dtype='int64', length=92658)\ntrain index: Int64Index([     0,      1,      2,      3,      4,      5,      6,      7,\n                 8,      9,\n            ...\n            463281, 463282, 463283, 463284, 463285, 463286, 463287, 463288,\n            463289, 463290],\n           dtype='int64', length=370633)\ncurcol= product\ncurcol= gender\n",
          "name": "stdout"
        },
        {
          "output_type": "stream",
          "text": "\n  5%|▌         | 2/39 [00:00<00:04,  8.42it/s]\u001b[A\n  8%|▊         | 3/39 [00:00<00:04,  7.61it/s]\u001b[A",
          "name": "stderr"
        },
        {
          "output_type": "stream",
          "text": "curcol= user_id\ncurcol= campaign_id\n",
          "name": "stdout"
        },
        {
          "output_type": "stream",
          "text": "\n 10%|█         | 4/39 [00:00<00:04,  8.11it/s]\u001b[A\n 13%|█▎        | 5/39 [00:00<00:04,  8.45it/s]\u001b[A",
          "name": "stderr"
        },
        {
          "output_type": "stream",
          "text": "curcol= webpage_id\ncurcol= product_category_1\n",
          "name": "stdout"
        },
        {
          "output_type": "stream",
          "text": "\n 15%|█▌        | 6/39 [00:00<00:03,  8.72it/s]\u001b[A\n 18%|█▊        | 7/39 [00:00<00:03,  9.03it/s]\u001b[A",
          "name": "stderr"
        },
        {
          "output_type": "stream",
          "text": "curcol= product_category_2\ncurcol= user_group_id\n",
          "name": "stdout"
        },
        {
          "output_type": "stream",
          "text": "\n 21%|██        | 8/39 [00:00<00:03,  9.03it/s]\u001b[A\n 23%|██▎       | 9/39 [00:01<00:03,  9.24it/s]\u001b[A",
          "name": "stderr"
        },
        {
          "output_type": "stream",
          "text": "curcol= var_1\ncurcol= action_viewsum\n",
          "name": "stdout"
        },
        {
          "output_type": "stream",
          "text": "\n 26%|██▌       | 10/39 [00:01<00:03,  8.96it/s]\u001b[A\n 28%|██▊       | 11/39 [00:01<00:03,  9.17it/s]\u001b[A",
          "name": "stderr"
        },
        {
          "output_type": "stream",
          "text": "curcol= action_month_viewsum\ncurcol= action_dayofweek_viewsum\n",
          "name": "stdout"
        },
        {
          "output_type": "stream",
          "text": "\n 31%|███       | 12/39 [00:01<00:02,  9.34it/s]\u001b[A\n 33%|███▎      | 13/39 [00:01<00:02,  9.49it/s]\u001b[A",
          "name": "stderr"
        },
        {
          "output_type": "stream",
          "text": "curcol= action_hour_viewsum\ncurcol= action_usermonth_viewsum\n",
          "name": "stdout"
        },
        {
          "output_type": "stream",
          "text": "\n 36%|███▌      | 14/39 [00:01<00:02,  9.26it/s]\u001b[A\n 38%|███▊      | 15/39 [00:01<00:02,  8.92it/s]\u001b[A",
          "name": "stderr"
        },
        {
          "output_type": "stream",
          "text": "curcol= action_userdayofweek_viewsum\ncurcol= action_userhour_viewsum\n",
          "name": "stdout"
        },
        {
          "output_type": "stream",
          "text": "\n 41%|████      | 16/39 [00:01<00:02,  8.96it/s]\u001b[A\n 44%|████▎     | 17/39 [00:01<00:02,  9.16it/s]\u001b[A",
          "name": "stderr"
        },
        {
          "output_type": "stream",
          "text": "curcol= action_productmonth_viewsum\ncurcol= action_productdayofweek_viewsum\n",
          "name": "stdout"
        },
        {
          "output_type": "stream",
          "text": "\n 46%|████▌     | 18/39 [00:02<00:02,  9.17it/s]\u001b[A\n 49%|████▊     | 19/39 [00:02<00:02,  9.21it/s]\u001b[A",
          "name": "stderr"
        },
        {
          "output_type": "stream",
          "text": "curcol= action_producthour_viewsum\ncurcol= action_userproductmonth_viewsum\n",
          "name": "stdout"
        },
        {
          "output_type": "stream",
          "text": "\n 51%|█████▏    | 20/39 [00:02<00:02,  9.19it/s]\u001b[A\n 54%|█████▍    | 21/39 [00:02<00:01,  9.10it/s]\u001b[A",
          "name": "stderr"
        },
        {
          "output_type": "stream",
          "text": "curcol= action_userproductdayofweek_viewsum\ncurcol= action_userproducthour_viewsum\n",
          "name": "stdout"
        },
        {
          "output_type": "stream",
          "text": "\n 56%|█████▋    | 22/39 [00:02<00:01,  9.04it/s]\u001b[A\n 59%|█████▉    | 23/39 [00:02<00:01,  8.93it/s]\u001b[A",
          "name": "stderr"
        },
        {
          "output_type": "stream",
          "text": "curcol= action_sum\ncurcol= action_month_sum\n",
          "name": "stdout"
        },
        {
          "output_type": "stream",
          "text": "\n 62%|██████▏   | 24/39 [00:02<00:01,  9.03it/s]\u001b[A\n 64%|██████▍   | 25/39 [00:02<00:01,  9.17it/s]\u001b[A",
          "name": "stderr"
        },
        {
          "output_type": "stream",
          "text": "curcol= action_dayofweek_sum\ncurcol= action_hour_sum\n",
          "name": "stdout"
        },
        {
          "output_type": "stream",
          "text": "\n 67%|██████▋   | 26/39 [00:02<00:01,  9.37it/s]\u001b[A\n 69%|██████▉   | 27/39 [00:02<00:01,  9.34it/s]\u001b[A",
          "name": "stderr"
        },
        {
          "output_type": "stream",
          "text": "curcol= action_usermonth_sum\ncurcol= action_userdayofweek_sum\n",
          "name": "stdout"
        },
        {
          "output_type": "stream",
          "text": "\n 72%|███████▏  | 28/39 [00:03<00:01,  9.19it/s]\u001b[A\n 74%|███████▍  | 29/39 [00:03<00:01,  9.11it/s]\u001b[A",
          "name": "stderr"
        },
        {
          "output_type": "stream",
          "text": "curcol= action_userhour_sum\ncurcol= action_productmonth_sum\n",
          "name": "stdout"
        },
        {
          "output_type": "stream",
          "text": "\n 77%|███████▋  | 30/39 [00:03<00:00,  9.22it/s]\u001b[A\n 79%|███████▉  | 31/39 [00:03<00:00,  9.34it/s]\u001b[A",
          "name": "stderr"
        },
        {
          "output_type": "stream",
          "text": "curcol= action_productdayofweek_sum\ncurcol= action_producthour_sum\n",
          "name": "stdout"
        },
        {
          "output_type": "stream",
          "text": "\n 82%|████████▏ | 32/39 [00:03<00:00,  9.40it/s]\u001b[A\n 85%|████████▍ | 33/39 [00:03<00:00,  9.42it/s]\u001b[A",
          "name": "stderr"
        },
        {
          "output_type": "stream",
          "text": "curcol= action_userproductmonth_sum\ncurcol= action_userproductdayofweek_sum\n",
          "name": "stdout"
        },
        {
          "output_type": "stream",
          "text": "\n 87%|████████▋ | 34/39 [00:03<00:00,  9.24it/s]\u001b[A\n 90%|████████▉ | 35/39 [00:03<00:00,  9.23it/s]\u001b[A",
          "name": "stderr"
        },
        {
          "output_type": "stream",
          "text": "curcol= action_userproducthour_sum\ncurcol= user_id#product\n",
          "name": "stdout"
        },
        {
          "output_type": "stream",
          "text": "\n 92%|█████████▏| 36/39 [00:04<00:00,  7.88it/s]\u001b[A\n 95%|█████████▍| 37/39 [00:04<00:00,  8.29it/s]\u001b[A",
          "name": "stderr"
        },
        {
          "output_type": "stream",
          "text": "curcol= dayofweek\ncurcol= month\n",
          "name": "stdout"
        },
        {
          "output_type": "stream",
          "text": "\n 97%|█████████▋| 38/39 [00:04<00:00,  8.58it/s]\u001b[A\n100%|██████████| 39/39 [00:04<00:00,  8.83it/s]\u001b[A\n\u001b[A",
          "name": "stderr"
        },
        {
          "output_type": "stream",
          "text": "curcol= hour\n",
          "name": "stdout"
        },
        {
          "output_type": "stream",
          "text": "\r2it [00:20, 12.75s/it]",
          "name": "stderr"
        },
        {
          "output_type": "stream",
          "text": "******************\nFOLD: 3\n******************\n",
          "name": "stdout"
        },
        {
          "output_type": "stream",
          "text": "\n  0%|          | 0/39 [00:00<?, ?it/s]\u001b[A\n  3%|▎         | 1/39 [00:00<00:04,  8.37it/s]\u001b[A",
          "name": "stderr"
        },
        {
          "output_type": "stream",
          "text": "valid index: Int64Index([185317, 185318, 185319, 185320, 185321, 185322, 185323, 185324,\n            185325, 185326,\n            ...\n            277965, 277966, 277967, 277968, 277969, 277970, 277971, 277972,\n            277973, 277974],\n           dtype='int64', length=92658)\ntrain index: Int64Index([     0,      1,      2,      3,      4,      5,      6,      7,\n                 8,      9,\n            ...\n            463281, 463282, 463283, 463284, 463285, 463286, 463287, 463288,\n            463289, 463290],\n           dtype='int64', length=370633)\ncurcol= product\ncurcol= gender\n",
          "name": "stdout"
        },
        {
          "output_type": "stream",
          "text": "\n  5%|▌         | 2/39 [00:00<00:04,  8.57it/s]\u001b[A\n  8%|▊         | 3/39 [00:00<00:04,  7.68it/s]\u001b[A",
          "name": "stderr"
        },
        {
          "output_type": "stream",
          "text": "curcol= user_id\ncurcol= campaign_id\n",
          "name": "stdout"
        },
        {
          "output_type": "stream",
          "text": "\n 10%|█         | 4/39 [00:00<00:04,  8.10it/s]\u001b[A\n 13%|█▎        | 5/39 [00:00<00:04,  8.45it/s]\u001b[A",
          "name": "stderr"
        },
        {
          "output_type": "stream",
          "text": "curcol= webpage_id\ncurcol= product_category_1\n",
          "name": "stdout"
        },
        {
          "output_type": "stream",
          "text": "\n 15%|█▌        | 6/39 [00:00<00:03,  8.73it/s]\u001b[A\n 18%|█▊        | 7/39 [00:00<00:03,  8.86it/s]\u001b[A",
          "name": "stderr"
        },
        {
          "output_type": "stream",
          "text": "curcol= product_category_2\ncurcol= user_group_id\n",
          "name": "stdout"
        },
        {
          "output_type": "stream",
          "text": "\n 21%|██        | 8/39 [00:00<00:03,  8.82it/s]\u001b[A\n 23%|██▎       | 9/39 [00:01<00:03,  9.00it/s]\u001b[A",
          "name": "stderr"
        },
        {
          "output_type": "stream",
          "text": "curcol= var_1\ncurcol= action_viewsum\n",
          "name": "stdout"
        },
        {
          "output_type": "stream",
          "text": "\n 26%|██▌       | 10/39 [00:01<00:03,  8.89it/s]\u001b[A\n 28%|██▊       | 11/39 [00:01<00:03,  9.15it/s]\u001b[A",
          "name": "stderr"
        },
        {
          "output_type": "stream",
          "text": "curcol= action_month_viewsum\ncurcol= action_dayofweek_viewsum\n",
          "name": "stdout"
        },
        {
          "output_type": "stream",
          "text": "\n 31%|███       | 12/39 [00:01<00:02,  9.33it/s]\u001b[A",
          "name": "stderr"
        },
        {
          "output_type": "stream",
          "text": "curcol= action_hour_viewsum\ncurcol= action_usermonth_viewsum\n",
          "name": "stdout"
        },
        {
          "output_type": "stream",
          "text": "\n 36%|███▌      | 14/39 [00:01<00:02,  9.34it/s]\u001b[A\n 38%|███▊      | 15/39 [00:01<00:02,  9.17it/s]\u001b[A",
          "name": "stderr"
        },
        {
          "output_type": "stream",
          "text": "curcol= action_userdayofweek_viewsum\ncurcol= action_userhour_viewsum\n",
          "name": "stdout"
        },
        {
          "output_type": "stream",
          "text": "\n 41%|████      | 16/39 [00:01<00:02,  9.00it/s]\u001b[A\n 44%|████▎     | 17/39 [00:01<00:02,  9.13it/s]\u001b[A",
          "name": "stderr"
        },
        {
          "output_type": "stream",
          "text": "curcol= action_productmonth_viewsum\ncurcol= action_productdayofweek_viewsum\n",
          "name": "stdout"
        },
        {
          "output_type": "stream",
          "text": "\n 46%|████▌     | 18/39 [00:02<00:02,  9.27it/s]\u001b[A\n 49%|████▊     | 19/39 [00:02<00:02,  9.32it/s]\u001b[A",
          "name": "stderr"
        },
        {
          "output_type": "stream",
          "text": "curcol= action_producthour_viewsum\ncurcol= action_userproductmonth_viewsum\n",
          "name": "stdout"
        },
        {
          "output_type": "stream",
          "text": "\n 51%|█████▏    | 20/39 [00:02<00:02,  9.29it/s]\u001b[A\n 54%|█████▍    | 21/39 [00:02<00:01,  9.24it/s]\u001b[A",
          "name": "stderr"
        },
        {
          "output_type": "stream",
          "text": "curcol= action_userproductdayofweek_viewsum\ncurcol= action_userproducthour_viewsum\n",
          "name": "stdout"
        },
        {
          "output_type": "stream",
          "text": "\n 56%|█████▋    | 22/39 [00:02<00:01,  9.23it/s]\u001b[A\n 59%|█████▉    | 23/39 [00:02<00:01,  9.24it/s]\u001b[A",
          "name": "stderr"
        },
        {
          "output_type": "stream",
          "text": "curcol= action_sum\ncurcol= action_month_sum\n",
          "name": "stdout"
        },
        {
          "output_type": "stream",
          "text": "\n 62%|██████▏   | 24/39 [00:02<00:01,  9.26it/s]\u001b[A\n 64%|██████▍   | 25/39 [00:02<00:01,  9.23it/s]\u001b[A",
          "name": "stderr"
        },
        {
          "output_type": "stream",
          "text": "curcol= action_dayofweek_sum\ncurcol= action_hour_sum\n",
          "name": "stdout"
        },
        {
          "output_type": "stream",
          "text": "\n 67%|██████▋   | 26/39 [00:02<00:01,  9.32it/s]\u001b[A\n 69%|██████▉   | 27/39 [00:02<00:01,  9.38it/s]\u001b[A",
          "name": "stderr"
        },
        {
          "output_type": "stream",
          "text": "curcol= action_usermonth_sum\ncurcol= action_userdayofweek_sum\n",
          "name": "stdout"
        },
        {
          "output_type": "stream",
          "text": "\n 72%|███████▏  | 28/39 [00:03<00:01,  9.36it/s]\u001b[A\n 74%|███████▍  | 29/39 [00:03<00:01,  9.40it/s]\u001b[A",
          "name": "stderr"
        },
        {
          "output_type": "stream",
          "text": "curcol= action_userhour_sum\ncurcol= action_productmonth_sum\n",
          "name": "stdout"
        },
        {
          "output_type": "stream",
          "text": "\n 77%|███████▋  | 30/39 [00:03<00:00,  9.31it/s]\u001b[A\n 79%|███████▉  | 31/39 [00:03<00:00,  9.17it/s]\u001b[A",
          "name": "stderr"
        },
        {
          "output_type": "stream",
          "text": "curcol= action_productdayofweek_sum\ncurcol= action_producthour_sum\n",
          "name": "stdout"
        },
        {
          "output_type": "stream",
          "text": "\n 82%|████████▏ | 32/39 [00:03<00:00,  9.08it/s]\u001b[A\n 85%|████████▍ | 33/39 [00:03<00:00,  9.17it/s]\u001b[A",
          "name": "stderr"
        },
        {
          "output_type": "stream",
          "text": "curcol= action_userproductmonth_sum\ncurcol= action_userproductdayofweek_sum\n",
          "name": "stdout"
        },
        {
          "output_type": "stream",
          "text": "\n 87%|████████▋ | 34/39 [00:03<00:00,  9.01it/s]\u001b[A\n 90%|████████▉ | 35/39 [00:03<00:00,  8.86it/s]\u001b[A",
          "name": "stderr"
        },
        {
          "output_type": "stream",
          "text": "curcol= action_userproducthour_sum\ncurcol= user_id#product\n",
          "name": "stdout"
        },
        {
          "output_type": "stream",
          "text": "\n 92%|█████████▏| 36/39 [00:04<00:00,  7.66it/s]\u001b[A\n 95%|█████████▍| 37/39 [00:04<00:00,  8.16it/s]\u001b[A",
          "name": "stderr"
        },
        {
          "output_type": "stream",
          "text": "curcol= dayofweek\ncurcol= month\n",
          "name": "stdout"
        },
        {
          "output_type": "stream",
          "text": "\n 97%|█████████▋| 38/39 [00:04<00:00,  8.45it/s]\u001b[A\n100%|██████████| 39/39 [00:04<00:00,  8.65it/s]\u001b[A\n3it [00:25, 10.34s/it]",
          "name": "stderr"
        },
        {
          "output_type": "stream",
          "text": "curcol= hour\n******************\nFOLD: 4\n******************\n",
          "name": "stdout"
        },
        {
          "output_type": "stream",
          "text": "\n  0%|          | 0/39 [00:00<?, ?it/s]\u001b[A\n  3%|▎         | 1/39 [00:00<00:04,  8.45it/s]\u001b[A",
          "name": "stderr"
        },
        {
          "output_type": "stream",
          "text": "valid index: Int64Index([277975, 277976, 277977, 277978, 277979, 277980, 277981, 277982,\n            277983, 277984,\n            ...\n            370623, 370624, 370625, 370626, 370627, 370628, 370629, 370630,\n            370631, 370632],\n           dtype='int64', length=92658)\ntrain index: Int64Index([     0,      1,      2,      3,      4,      5,      6,      7,\n                 8,      9,\n            ...\n            463281, 463282, 463283, 463284, 463285, 463286, 463287, 463288,\n            463289, 463290],\n           dtype='int64', length=370633)\ncurcol= product\ncurcol= gender\n",
          "name": "stdout"
        },
        {
          "output_type": "stream",
          "text": "\n  5%|▌         | 2/39 [00:00<00:04,  8.61it/s]\u001b[A\n  8%|▊         | 3/39 [00:00<00:04,  7.71it/s]\u001b[A",
          "name": "stderr"
        },
        {
          "output_type": "stream",
          "text": "curcol= user_id\ncurcol= campaign_id\n",
          "name": "stdout"
        },
        {
          "output_type": "stream",
          "text": "\n 10%|█         | 4/39 [00:00<00:04,  8.07it/s]\u001b[A\n 13%|█▎        | 5/39 [00:00<00:04,  8.32it/s]\u001b[A",
          "name": "stderr"
        },
        {
          "output_type": "stream",
          "text": "curcol= webpage_id\ncurcol= product_category_1\n",
          "name": "stdout"
        },
        {
          "output_type": "stream",
          "text": "\n 15%|█▌        | 6/39 [00:00<00:03,  8.58it/s]\u001b[A\n 18%|█▊        | 7/39 [00:00<00:03,  8.94it/s]\u001b[A",
          "name": "stderr"
        },
        {
          "output_type": "stream",
          "text": "curcol= product_category_2\ncurcol= user_group_id\n",
          "name": "stdout"
        },
        {
          "output_type": "stream",
          "text": "\n 21%|██        | 8/39 [00:00<00:03,  8.94it/s]\u001b[A\n 23%|██▎       | 9/39 [00:01<00:03,  9.18it/s]\u001b[A",
          "name": "stderr"
        },
        {
          "output_type": "stream",
          "text": "curcol= var_1\ncurcol= action_viewsum\n",
          "name": "stdout"
        },
        {
          "output_type": "stream",
          "text": "\n 26%|██▌       | 10/39 [00:01<00:03,  9.07it/s]\u001b[A\n 28%|██▊       | 11/39 [00:01<00:03,  9.27it/s]\u001b[A",
          "name": "stderr"
        },
        {
          "output_type": "stream",
          "text": "curcol= action_month_viewsum\ncurcol= action_dayofweek_viewsum\n",
          "name": "stdout"
        },
        {
          "output_type": "stream",
          "text": "\n 31%|███       | 12/39 [00:01<00:02,  9.27it/s]\u001b[A\n 33%|███▎      | 13/39 [00:01<00:02,  9.35it/s]\u001b[A",
          "name": "stderr"
        },
        {
          "output_type": "stream",
          "text": "curcol= action_hour_viewsum\ncurcol= action_usermonth_viewsum\n",
          "name": "stdout"
        },
        {
          "output_type": "stream",
          "text": "\n 36%|███▌      | 14/39 [00:01<00:02,  9.19it/s]\u001b[A\n 38%|███▊      | 15/39 [00:01<00:02,  9.07it/s]\u001b[A",
          "name": "stderr"
        },
        {
          "output_type": "stream",
          "text": "curcol= action_userdayofweek_viewsum\ncurcol= action_userhour_viewsum\n",
          "name": "stdout"
        },
        {
          "output_type": "stream",
          "text": "\n 41%|████      | 16/39 [00:01<00:02,  8.94it/s]\u001b[A\n 44%|████▎     | 17/39 [00:01<00:02,  9.05it/s]\u001b[A",
          "name": "stderr"
        },
        {
          "output_type": "stream",
          "text": "curcol= action_productmonth_viewsum\ncurcol= action_productdayofweek_viewsum\n",
          "name": "stdout"
        },
        {
          "output_type": "stream",
          "text": "\n 46%|████▌     | 18/39 [00:02<00:02,  9.13it/s]\u001b[A\n 49%|████▊     | 19/39 [00:02<00:02,  9.17it/s]\u001b[A",
          "name": "stderr"
        },
        {
          "output_type": "stream",
          "text": "curcol= action_producthour_viewsum\ncurcol= action_userproductmonth_viewsum\n",
          "name": "stdout"
        },
        {
          "output_type": "stream",
          "text": "\n 51%|█████▏    | 20/39 [00:02<00:02,  9.12it/s]\u001b[A\n 54%|█████▍    | 21/39 [00:02<00:01,  9.06it/s]\u001b[A",
          "name": "stderr"
        },
        {
          "output_type": "stream",
          "text": "curcol= action_userproductdayofweek_viewsum\ncurcol= action_userproducthour_viewsum\n",
          "name": "stdout"
        },
        {
          "output_type": "stream",
          "text": "\n 56%|█████▋    | 22/39 [00:02<00:01,  9.16it/s]\u001b[A\n 59%|█████▉    | 23/39 [00:02<00:01,  9.26it/s]\u001b[A",
          "name": "stderr"
        },
        {
          "output_type": "stream",
          "text": "curcol= action_sum\ncurcol= action_month_sum\n",
          "name": "stdout"
        },
        {
          "output_type": "stream",
          "text": "\n 62%|██████▏   | 24/39 [00:02<00:01,  9.25it/s]\u001b[A\n 64%|██████▍   | 25/39 [00:02<00:01,  9.17it/s]\u001b[A",
          "name": "stderr"
        },
        {
          "output_type": "stream",
          "text": "curcol= action_dayofweek_sum\ncurcol= action_hour_sum\n",
          "name": "stdout"
        },
        {
          "output_type": "stream",
          "text": "\n 67%|██████▋   | 26/39 [00:02<00:01,  8.91it/s]\u001b[A\n 69%|██████▉   | 27/39 [00:03<00:01,  8.74it/s]\u001b[A",
          "name": "stderr"
        },
        {
          "output_type": "stream",
          "text": "curcol= action_usermonth_sum\ncurcol= action_userdayofweek_sum\n",
          "name": "stdout"
        },
        {
          "output_type": "stream",
          "text": "\n 72%|███████▏  | 28/39 [00:03<00:01,  8.61it/s]\u001b[A\n 74%|███████▍  | 29/39 [00:03<00:01,  8.65it/s]\u001b[A",
          "name": "stderr"
        },
        {
          "output_type": "stream",
          "text": "curcol= action_userhour_sum\ncurcol= action_productmonth_sum\n",
          "name": "stdout"
        },
        {
          "output_type": "stream",
          "text": "\n 77%|███████▋  | 30/39 [00:03<00:01,  8.87it/s]\u001b[A\n 79%|███████▉  | 31/39 [00:03<00:00,  8.93it/s]\u001b[A",
          "name": "stderr"
        },
        {
          "output_type": "stream",
          "text": "curcol= action_productdayofweek_sum\ncurcol= action_producthour_sum\n",
          "name": "stdout"
        },
        {
          "output_type": "stream",
          "text": "\n 82%|████████▏ | 32/39 [00:03<00:00,  9.11it/s]\u001b[A\n 85%|████████▍ | 33/39 [00:03<00:00,  9.16it/s]\u001b[A",
          "name": "stderr"
        },
        {
          "output_type": "stream",
          "text": "curcol= action_userproductmonth_sum\ncurcol= action_userproductdayofweek_sum\n",
          "name": "stdout"
        },
        {
          "output_type": "stream",
          "text": "\n 87%|████████▋ | 34/39 [00:03<00:00,  9.15it/s]\u001b[A\n 90%|████████▉ | 35/39 [00:03<00:00,  9.06it/s]\u001b[A",
          "name": "stderr"
        },
        {
          "output_type": "stream",
          "text": "curcol= action_userproducthour_sum\ncurcol= user_id#product\n",
          "name": "stdout"
        },
        {
          "output_type": "stream",
          "text": "\n 92%|█████████▏| 36/39 [00:04<00:00,  7.95it/s]\u001b[A\n 95%|█████████▍| 37/39 [00:04<00:00,  8.35it/s]\u001b[A",
          "name": "stderr"
        },
        {
          "output_type": "stream",
          "text": "curcol= dayofweek\ncurcol= month\n",
          "name": "stdout"
        },
        {
          "output_type": "stream",
          "text": "\n 97%|█████████▋| 38/39 [00:04<00:00,  8.70it/s]\u001b[A\n100%|██████████| 39/39 [00:04<00:00,  8.92it/s]\u001b[A\n\u001b[A",
          "name": "stderr"
        },
        {
          "output_type": "stream",
          "text": "curcol= hour\n",
          "name": "stdout"
        },
        {
          "output_type": "stream",
          "text": "\r4it [00:30,  8.66s/it]",
          "name": "stderr"
        },
        {
          "output_type": "stream",
          "text": "******************\nFOLD: 5\n******************\n",
          "name": "stdout"
        },
        {
          "output_type": "stream",
          "text": "\n  0%|          | 0/39 [00:00<?, ?it/s]\u001b[A\n  3%|▎         | 1/39 [00:00<00:04,  8.61it/s]\u001b[A",
          "name": "stderr"
        },
        {
          "output_type": "stream",
          "text": "valid index: Int64Index([370633, 370634, 370635, 370636, 370637, 370638, 370639, 370640,\n            370641, 370642,\n            ...\n            463281, 463282, 463283, 463284, 463285, 463286, 463287, 463288,\n            463289, 463290],\n           dtype='int64', length=92658)\ntrain index: Int64Index([     0,      1,      2,      3,      4,      5,      6,      7,\n                 8,      9,\n            ...\n            370623, 370624, 370625, 370626, 370627, 370628, 370629, 370630,\n            370631, 370632],\n           dtype='int64', length=370633)\ncurcol= product\ncurcol= gender\n",
          "name": "stdout"
        },
        {
          "output_type": "stream",
          "text": "\n  5%|▌         | 2/39 [00:00<00:04,  8.76it/s]\u001b[A\n  8%|▊         | 3/39 [00:00<00:04,  7.63it/s]\u001b[A",
          "name": "stderr"
        },
        {
          "output_type": "stream",
          "text": "curcol= user_id\ncurcol= campaign_id\n",
          "name": "stdout"
        },
        {
          "output_type": "stream",
          "text": "\n 10%|█         | 4/39 [00:00<00:04,  8.10it/s]\u001b[A\n 13%|█▎        | 5/39 [00:00<00:04,  8.42it/s]\u001b[A",
          "name": "stderr"
        },
        {
          "output_type": "stream",
          "text": "curcol= webpage_id\ncurcol= product_category_1\n",
          "name": "stdout"
        },
        {
          "output_type": "stream",
          "text": "\n 15%|█▌        | 6/39 [00:00<00:03,  8.66it/s]\u001b[A\n 18%|█▊        | 7/39 [00:00<00:03,  8.80it/s]\u001b[A",
          "name": "stderr"
        },
        {
          "output_type": "stream",
          "text": "curcol= product_category_2\ncurcol= user_group_id\n",
          "name": "stdout"
        },
        {
          "output_type": "stream",
          "text": "\n 21%|██        | 8/39 [00:00<00:03,  8.90it/s]\u001b[A\n 23%|██▎       | 9/39 [00:01<00:03,  8.89it/s]\u001b[A",
          "name": "stderr"
        },
        {
          "output_type": "stream",
          "text": "curcol= var_1\ncurcol= action_viewsum\n",
          "name": "stdout"
        },
        {
          "output_type": "stream",
          "text": "\n 26%|██▌       | 10/39 [00:01<00:03,  8.66it/s]\u001b[A\n 28%|██▊       | 11/39 [00:01<00:03,  8.81it/s]\u001b[A",
          "name": "stderr"
        },
        {
          "output_type": "stream",
          "text": "curcol= action_month_viewsum\ncurcol= action_dayofweek_viewsum\n",
          "name": "stdout"
        },
        {
          "output_type": "stream",
          "text": "\n 31%|███       | 12/39 [00:01<00:03,  8.81it/s]\u001b[A\n 33%|███▎      | 13/39 [00:01<00:02,  9.07it/s]\u001b[A",
          "name": "stderr"
        },
        {
          "output_type": "stream",
          "text": "curcol= action_hour_viewsum\ncurcol= action_usermonth_viewsum\n",
          "name": "stdout"
        },
        {
          "output_type": "stream",
          "text": "\n 36%|███▌      | 14/39 [00:01<00:02,  8.95it/s]\u001b[A\n 38%|███▊      | 15/39 [00:01<00:02,  8.82it/s]\u001b[A",
          "name": "stderr"
        },
        {
          "output_type": "stream",
          "text": "curcol= action_userdayofweek_viewsum\ncurcol= action_userhour_viewsum\n",
          "name": "stdout"
        },
        {
          "output_type": "stream",
          "text": "\n 41%|████      | 16/39 [00:01<00:02,  8.76it/s]\u001b[A\n 44%|████▎     | 17/39 [00:01<00:02,  9.05it/s]\u001b[A",
          "name": "stderr"
        },
        {
          "output_type": "stream",
          "text": "curcol= action_productmonth_viewsum\ncurcol= action_productdayofweek_viewsum\n",
          "name": "stdout"
        },
        {
          "output_type": "stream",
          "text": "\n 46%|████▌     | 18/39 [00:02<00:02,  9.27it/s]\u001b[A\n 49%|████▊     | 19/39 [00:02<00:02,  9.26it/s]\u001b[A",
          "name": "stderr"
        },
        {
          "output_type": "stream",
          "text": "curcol= action_producthour_viewsum\ncurcol= action_userproductmonth_viewsum\n",
          "name": "stdout"
        },
        {
          "output_type": "stream",
          "text": "\n 51%|█████▏    | 20/39 [00:02<00:02,  9.21it/s]\u001b[A\n 54%|█████▍    | 21/39 [00:02<00:01,  9.21it/s]\u001b[A",
          "name": "stderr"
        },
        {
          "output_type": "stream",
          "text": "curcol= action_userproductdayofweek_viewsum\ncurcol= action_userproducthour_viewsum\n",
          "name": "stdout"
        },
        {
          "output_type": "stream",
          "text": "\n 56%|█████▋    | 22/39 [00:02<00:01,  9.08it/s]\u001b[A\n 59%|█████▉    | 23/39 [00:02<00:01,  9.04it/s]\u001b[A",
          "name": "stderr"
        },
        {
          "output_type": "stream",
          "text": "curcol= action_sum\ncurcol= action_month_sum\n",
          "name": "stdout"
        },
        {
          "output_type": "stream",
          "text": "\n 62%|██████▏   | 24/39 [00:02<00:01,  9.22it/s]\u001b[A\n 64%|██████▍   | 25/39 [00:02<00:01,  9.33it/s]\u001b[A",
          "name": "stderr"
        },
        {
          "output_type": "stream",
          "text": "curcol= action_dayofweek_sum\ncurcol= action_hour_sum\n",
          "name": "stdout"
        },
        {
          "output_type": "stream",
          "text": "\n 67%|██████▋   | 26/39 [00:02<00:01,  9.37it/s]\u001b[A\n 69%|██████▉   | 27/39 [00:03<00:01,  9.30it/s]\u001b[A",
          "name": "stderr"
        },
        {
          "output_type": "stream",
          "text": "curcol= action_usermonth_sum\ncurcol= action_userdayofweek_sum\n",
          "name": "stdout"
        },
        {
          "output_type": "stream",
          "text": "\n 72%|███████▏  | 28/39 [00:03<00:01,  9.23it/s]\u001b[A\n 74%|███████▍  | 29/39 [00:03<00:01,  9.17it/s]\u001b[A",
          "name": "stderr"
        },
        {
          "output_type": "stream",
          "text": "curcol= action_userhour_sum\ncurcol= action_productmonth_sum\n",
          "name": "stdout"
        },
        {
          "output_type": "stream",
          "text": "\n 77%|███████▋  | 30/39 [00:03<00:00,  9.08it/s]\u001b[A\n 79%|███████▉  | 31/39 [00:03<00:00,  9.13it/s]\u001b[A",
          "name": "stderr"
        },
        {
          "output_type": "stream",
          "text": "curcol= action_productdayofweek_sum\ncurcol= action_producthour_sum\n",
          "name": "stdout"
        },
        {
          "output_type": "stream",
          "text": "\n 82%|████████▏ | 32/39 [00:03<00:00,  9.27it/s]\u001b[A\n 85%|████████▍ | 33/39 [00:03<00:00,  9.36it/s]\u001b[A",
          "name": "stderr"
        },
        {
          "output_type": "stream",
          "text": "curcol= action_userproductmonth_sum\ncurcol= action_userproductdayofweek_sum\n",
          "name": "stdout"
        },
        {
          "output_type": "stream",
          "text": "\n 87%|████████▋ | 34/39 [00:03<00:00,  9.28it/s]\u001b[A\n 90%|████████▉ | 35/39 [00:03<00:00,  9.30it/s]\u001b[A",
          "name": "stderr"
        },
        {
          "output_type": "stream",
          "text": "curcol= action_userproducthour_sum\ncurcol= user_id#product\n",
          "name": "stdout"
        },
        {
          "output_type": "stream",
          "text": "\n 92%|█████████▏| 36/39 [00:04<00:00,  8.23it/s]\u001b[A\n 95%|█████████▍| 37/39 [00:04<00:00,  8.61it/s]\u001b[A",
          "name": "stderr"
        },
        {
          "output_type": "stream",
          "text": "curcol= dayofweek\ncurcol= month\n",
          "name": "stdout"
        },
        {
          "output_type": "stream",
          "text": "\n 97%|█████████▋| 38/39 [00:04<00:00,  8.88it/s]\u001b[A\n100%|██████████| 39/39 [00:04<00:00,  9.12it/s]\u001b[A\n5it [00:35,  7.48s/it]",
          "name": "stderr"
        },
        {
          "output_type": "stream",
          "text": "curcol= hour\n",
          "name": "stdout"
        },
        {
          "output_type": "stream",
          "text": "\n",
          "name": "stderr"
        },
        {
          "output_type": "stream",
          "text": "\nFill NA Start\n(463291, 114)\n\nTarget Encoding completed\n",
          "name": "stdout"
        }
      ]
    },
    {
      "metadata": {
        "trusted": true,
        "_uuid": "d9eff1b7d82dfe327412ffd9172fce1031d2f8b3"
      },
      "cell_type": "code",
      "source": "noof1s=train_df[train_df[targetcol]!=0].shape[0]\nnoof0s=train_df[train_df[targetcol]==0].shape[0]\nonesratio = noof1s / (noof0s+noof1s)\nzerosratio = noof0s / (noof0s+noof1s)\nprint('noof1s=',noof1s)\nprint('noof0s=',noof0s)\nprint('1sratio=',onesratio)\nprint('0sratio=',zerosratio)",
      "execution_count": 28,
      "outputs": [
        {
          "output_type": "stream",
          "text": "noof1s= 31331\nnoof0s= 431960\n1sratio= 0.06762704218299082\n0sratio= 0.9323729578170091\n",
          "name": "stdout"
        }
      ]
    },
    {
      "metadata": {
        "trusted": true,
        "_uuid": "4f003b6f0bbbcafbde32f8e95d20210456997ba1"
      },
      "cell_type": "code",
      "source": "# #drop target enc columns\n# enc_cols = [col for col in train_df.columns if ('targetenc' in col) ]\n# train_df.drop(enc_cols,inplace=True,axis=1)\n# test_df.drop(enc_cols,inplace=True,axis=1)",
      "execution_count": 26,
      "outputs": []
    },
    {
      "metadata": {
        "trusted": true,
        "_uuid": "afde37634f1f3ced6aa1f1767d552edc7bbb1d36"
      },
      "cell_type": "code",
      "source": "#Add Total Target Encoding Field\n    \nenc_cols = [col for col in train_df.columns if ('targetenc' in col) ]\nfor col in enc_cols:\n    train_df[col] = train_df[col] / onesratio\n    test_df[col] = test_df[col] / onesratio",
      "execution_count": 29,
      "outputs": []
    },
    {
      "metadata": {
        "trusted": true,
        "_uuid": "5af8af5a359f718bf3ac7069f7337c2187ec6956"
      },
      "cell_type": "code",
      "source": "enc_cols = [col for col in train_df.columns if ('targetenc' in col) ]\ntrain_df[enc_cols].head()",
      "execution_count": 77,
      "outputs": [
        {
          "output_type": "execute_result",
          "execution_count": 77,
          "data": {
            "text/plain": "   targetenc_product  targetenc_gender  targetenc_user_id  \\\n0           0.993663          0.946433           0.000000   \n1           0.993663          0.946433           0.938229   \n2           0.993663          0.946433           0.938229   \n3           0.907613          0.985118           0.000000   \n4           0.993663          0.985118           2.957397   \n\n   targetenc_campaign_id  targetenc_webpage_id  targetenc_product_category_1  \\\n0               0.860322              0.791184                      0.860867   \n1               1.036963              1.036963                      0.882178   \n2               0.860322              0.791184                      0.860867   \n3               0.860322              0.791184                      1.180556   \n4               1.280554              1.280554                      1.180556   \n\n   targetenc_product_category_2  targetenc_user_group_id  targetenc_var_1  \\\n0                      0.934755                 0.826426         0.945774   \n1                      0.934755                 0.962647         0.945774   \n2                      0.934755                 0.962647         0.945774   \n3                      0.934755                 0.951867         1.026934   \n4                      0.934755                 1.026805         1.026934   \n\n   targetenc_action_viewsum  targetenc_action_month_viewsum  \\\n0                  0.979018                        0.980341   \n1                  0.955232                        0.980341   \n2                  0.955232                        0.980341   \n3                  0.984949                        0.980341   \n4                  0.959263                        0.980341   \n\n   targetenc_action_dayofweek_viewsum  targetenc_action_hour_viewsum  \\\n0                            0.989111                       0.963179   \n1                            0.989111                       0.963179   \n2                            0.989111                       0.963179   \n3                            0.989111                       0.963179   \n4                            0.989111                       0.963179   \n\n   targetenc_action_usermonth_viewsum  targetenc_action_userdayofweek_viewsum  \\\n0                            2.274921                                0.445391   \n1                            0.985024                                0.926034   \n2                            0.985024                                0.926034   \n3                            0.952336                                0.974005   \n4                            1.078513                                0.982004   \n\n   targetenc_action_userhour_viewsum  targetenc_action_productmonth_viewsum  \\\n0                           0.891677                               0.993663   \n1                           0.996699                               0.993663   \n2                           0.996699                               0.993663   \n3                           0.996699                               0.907613   \n4                           0.996699                               0.993663   \n\n   targetenc_action_productdayofweek_viewsum  \\\n0                                   0.986465   \n1                                   0.986465   \n2                                   0.986465   \n3                                   0.986465   \n4                                   0.986465   \n\n   targetenc_action_producthour_viewsum  \\\n0                              0.946087   \n1                              0.946087   \n2                              0.946087   \n3                              0.802394   \n4                              0.946087   \n\n   targetenc_action_userproductmonth_viewsum  \\\n0                                   0.970413   \n1                                   0.970413   \n2                                   0.970413   \n3                                   0.970413   \n4                                   1.015467   \n\n   targetenc_action_userproductdayofweek_viewsum  \\\n0                                       0.972537   \n1                                       1.079050   \n2                                       1.079050   \n3                                       0.926720   \n4                                       0.972537   \n\n   targetenc_action_userproducthour_viewsum  targetenc_action_sum  \\\n0                                  0.970904              0.989233   \n1                                  0.970904              0.989233   \n2                                  0.970904              0.989233   \n3                                  0.970904              0.942415   \n4                                  0.970904              0.989233   \n\n   targetenc_action_month_sum  targetenc_action_dayofweek_sum  \\\n0                    0.980341                        0.989111   \n1                    0.980341                        0.989111   \n2                    0.980341                        0.989111   \n3                    0.980341                        0.989111   \n4                    0.980341                        0.989111   \n\n   targetenc_action_hour_sum  targetenc_action_usermonth_sum  \\\n0                   0.963179                        0.970569   \n1                   0.963179                        0.984823   \n2                   0.963179                        0.984823   \n3                   0.963179                        0.970569   \n4                   0.963179                        1.052332   \n\n   targetenc_action_userdayofweek_sum  targetenc_action_userhour_sum  \\\n0                            0.984143                       0.967481   \n1                            0.984143                       0.996947   \n2                            0.984143                       0.996947   \n3                            0.984143                       0.996947   \n4                            0.982999                       0.996947   \n\n   targetenc_action_productmonth_sum  targetenc_action_productdayofweek_sum  \\\n0                           0.993663                               0.974327   \n1                           0.993663                               0.974327   \n2                           0.993663                               0.974327   \n3                           0.907613                               0.585347   \n4                           0.993663                               0.974327   \n\n   targetenc_action_producthour_sum  targetenc_action_userproductmonth_sum  \\\n0                          0.946087                               0.970397   \n1                          0.946087                               0.970397   \n2                          0.946087                               0.970397   \n3                          0.858599                               0.970397   \n4                          0.946087                               1.004926   \n\n   targetenc_action_userproductdayofweek_sum  \\\n0                                   0.972603   \n1                                   1.002252   \n2                                   1.002252   \n3                                   1.002252   \n4                                   0.972603   \n\n   targetenc_action_userproducthour_sum  targetenc_user_id#product  \\\n0                              0.970867                   0.895520   \n1                              0.970867                   0.895520   \n2                              0.970867                   0.895520   \n3                              0.970867                   0.000000   \n4                              0.970867                  14.786984   \n\n   targetenc_dayofweek  targetenc_month  targetenc_hour  \n0             0.989111         0.980341        0.963179  \n1             0.989111         0.980341        0.963179  \n2             0.989111         0.980341        0.963179  \n3             0.989111         0.980341        0.963179  \n4             0.989111         0.980341        0.963179  ",
            "text/html": "<div>\n<style scoped>\n    .dataframe tbody tr th:only-of-type {\n        vertical-align: middle;\n    }\n\n    .dataframe tbody tr th {\n        vertical-align: top;\n    }\n\n    .dataframe thead th {\n        text-align: right;\n    }\n</style>\n<table border=\"1\" class=\"dataframe\">\n  <thead>\n    <tr style=\"text-align: right;\">\n      <th></th>\n      <th>targetenc_product</th>\n      <th>targetenc_gender</th>\n      <th>targetenc_user_id</th>\n      <th>targetenc_campaign_id</th>\n      <th>targetenc_webpage_id</th>\n      <th>targetenc_product_category_1</th>\n      <th>targetenc_product_category_2</th>\n      <th>targetenc_user_group_id</th>\n      <th>targetenc_var_1</th>\n      <th>targetenc_action_viewsum</th>\n      <th>targetenc_action_month_viewsum</th>\n      <th>targetenc_action_dayofweek_viewsum</th>\n      <th>targetenc_action_hour_viewsum</th>\n      <th>targetenc_action_usermonth_viewsum</th>\n      <th>targetenc_action_userdayofweek_viewsum</th>\n      <th>targetenc_action_userhour_viewsum</th>\n      <th>targetenc_action_productmonth_viewsum</th>\n      <th>targetenc_action_productdayofweek_viewsum</th>\n      <th>targetenc_action_producthour_viewsum</th>\n      <th>targetenc_action_userproductmonth_viewsum</th>\n      <th>targetenc_action_userproductdayofweek_viewsum</th>\n      <th>targetenc_action_userproducthour_viewsum</th>\n      <th>targetenc_action_sum</th>\n      <th>targetenc_action_month_sum</th>\n      <th>targetenc_action_dayofweek_sum</th>\n      <th>targetenc_action_hour_sum</th>\n      <th>targetenc_action_usermonth_sum</th>\n      <th>targetenc_action_userdayofweek_sum</th>\n      <th>targetenc_action_userhour_sum</th>\n      <th>targetenc_action_productmonth_sum</th>\n      <th>targetenc_action_productdayofweek_sum</th>\n      <th>targetenc_action_producthour_sum</th>\n      <th>targetenc_action_userproductmonth_sum</th>\n      <th>targetenc_action_userproductdayofweek_sum</th>\n      <th>targetenc_action_userproducthour_sum</th>\n      <th>targetenc_user_id#product</th>\n      <th>targetenc_dayofweek</th>\n      <th>targetenc_month</th>\n      <th>targetenc_hour</th>\n    </tr>\n  </thead>\n  <tbody>\n    <tr>\n      <th>0</th>\n      <td>0.993663</td>\n      <td>0.946433</td>\n      <td>0.000000</td>\n      <td>0.860322</td>\n      <td>0.791184</td>\n      <td>0.860867</td>\n      <td>0.934755</td>\n      <td>0.826426</td>\n      <td>0.945774</td>\n      <td>0.979018</td>\n      <td>0.980341</td>\n      <td>0.989111</td>\n      <td>0.963179</td>\n      <td>2.274921</td>\n      <td>0.445391</td>\n      <td>0.891677</td>\n      <td>0.993663</td>\n      <td>0.986465</td>\n      <td>0.946087</td>\n      <td>0.970413</td>\n      <td>0.972537</td>\n      <td>0.970904</td>\n      <td>0.989233</td>\n      <td>0.980341</td>\n      <td>0.989111</td>\n      <td>0.963179</td>\n      <td>0.970569</td>\n      <td>0.984143</td>\n      <td>0.967481</td>\n      <td>0.993663</td>\n      <td>0.974327</td>\n      <td>0.946087</td>\n      <td>0.970397</td>\n      <td>0.972603</td>\n      <td>0.970867</td>\n      <td>0.895520</td>\n      <td>0.989111</td>\n      <td>0.980341</td>\n      <td>0.963179</td>\n    </tr>\n    <tr>\n      <th>1</th>\n      <td>0.993663</td>\n      <td>0.946433</td>\n      <td>0.938229</td>\n      <td>1.036963</td>\n      <td>1.036963</td>\n      <td>0.882178</td>\n      <td>0.934755</td>\n      <td>0.962647</td>\n      <td>0.945774</td>\n      <td>0.955232</td>\n      <td>0.980341</td>\n      <td>0.989111</td>\n      <td>0.963179</td>\n      <td>0.985024</td>\n      <td>0.926034</td>\n      <td>0.996699</td>\n      <td>0.993663</td>\n      <td>0.986465</td>\n      <td>0.946087</td>\n      <td>0.970413</td>\n      <td>1.079050</td>\n      <td>0.970904</td>\n      <td>0.989233</td>\n      <td>0.980341</td>\n      <td>0.989111</td>\n      <td>0.963179</td>\n      <td>0.984823</td>\n      <td>0.984143</td>\n      <td>0.996947</td>\n      <td>0.993663</td>\n      <td>0.974327</td>\n      <td>0.946087</td>\n      <td>0.970397</td>\n      <td>1.002252</td>\n      <td>0.970867</td>\n      <td>0.895520</td>\n      <td>0.989111</td>\n      <td>0.980341</td>\n      <td>0.963179</td>\n    </tr>\n    <tr>\n      <th>2</th>\n      <td>0.993663</td>\n      <td>0.946433</td>\n      <td>0.938229</td>\n      <td>0.860322</td>\n      <td>0.791184</td>\n      <td>0.860867</td>\n      <td>0.934755</td>\n      <td>0.962647</td>\n      <td>0.945774</td>\n      <td>0.955232</td>\n      <td>0.980341</td>\n      <td>0.989111</td>\n      <td>0.963179</td>\n      <td>0.985024</td>\n      <td>0.926034</td>\n      <td>0.996699</td>\n      <td>0.993663</td>\n      <td>0.986465</td>\n      <td>0.946087</td>\n      <td>0.970413</td>\n      <td>1.079050</td>\n      <td>0.970904</td>\n      <td>0.989233</td>\n      <td>0.980341</td>\n      <td>0.989111</td>\n      <td>0.963179</td>\n      <td>0.984823</td>\n      <td>0.984143</td>\n      <td>0.996947</td>\n      <td>0.993663</td>\n      <td>0.974327</td>\n      <td>0.946087</td>\n      <td>0.970397</td>\n      <td>1.002252</td>\n      <td>0.970867</td>\n      <td>0.895520</td>\n      <td>0.989111</td>\n      <td>0.980341</td>\n      <td>0.963179</td>\n    </tr>\n    <tr>\n      <th>3</th>\n      <td>0.907613</td>\n      <td>0.985118</td>\n      <td>0.000000</td>\n      <td>0.860322</td>\n      <td>0.791184</td>\n      <td>1.180556</td>\n      <td>0.934755</td>\n      <td>0.951867</td>\n      <td>1.026934</td>\n      <td>0.984949</td>\n      <td>0.980341</td>\n      <td>0.989111</td>\n      <td>0.963179</td>\n      <td>0.952336</td>\n      <td>0.974005</td>\n      <td>0.996699</td>\n      <td>0.907613</td>\n      <td>0.986465</td>\n      <td>0.802394</td>\n      <td>0.970413</td>\n      <td>0.926720</td>\n      <td>0.970904</td>\n      <td>0.942415</td>\n      <td>0.980341</td>\n      <td>0.989111</td>\n      <td>0.963179</td>\n      <td>0.970569</td>\n      <td>0.984143</td>\n      <td>0.996947</td>\n      <td>0.907613</td>\n      <td>0.585347</td>\n      <td>0.858599</td>\n      <td>0.970397</td>\n      <td>1.002252</td>\n      <td>0.970867</td>\n      <td>0.000000</td>\n      <td>0.989111</td>\n      <td>0.980341</td>\n      <td>0.963179</td>\n    </tr>\n    <tr>\n      <th>4</th>\n      <td>0.993663</td>\n      <td>0.985118</td>\n      <td>2.957397</td>\n      <td>1.280554</td>\n      <td>1.280554</td>\n      <td>1.180556</td>\n      <td>0.934755</td>\n      <td>1.026805</td>\n      <td>1.026934</td>\n      <td>0.959263</td>\n      <td>0.980341</td>\n      <td>0.989111</td>\n      <td>0.963179</td>\n      <td>1.078513</td>\n      <td>0.982004</td>\n      <td>0.996699</td>\n      <td>0.993663</td>\n      <td>0.986465</td>\n      <td>0.946087</td>\n      <td>1.015467</td>\n      <td>0.972537</td>\n      <td>0.970904</td>\n      <td>0.989233</td>\n      <td>0.980341</td>\n      <td>0.989111</td>\n      <td>0.963179</td>\n      <td>1.052332</td>\n      <td>0.982999</td>\n      <td>0.996947</td>\n      <td>0.993663</td>\n      <td>0.974327</td>\n      <td>0.946087</td>\n      <td>1.004926</td>\n      <td>0.972603</td>\n      <td>0.970867</td>\n      <td>14.786984</td>\n      <td>0.989111</td>\n      <td>0.980341</td>\n      <td>0.963179</td>\n    </tr>\n  </tbody>\n</table>\n</div>"
          },
          "metadata": {}
        }
      ]
    },
    {
      "metadata": {
        "trusted": true,
        "_uuid": "ad0c32b6bc8201ea99706e220cc53c1a67f2e481"
      },
      "cell_type": "code",
      "source": "# summarize_cols = ['sum_targetenc','product_targetenc','mean_targetenc']\n# train_df.drop(summarize_cols,inplace=True,axis=1)\n# test_df.drop(summarize_cols,inplace=True,axis=1)",
      "execution_count": 71,
      "outputs": []
    },
    {
      "metadata": {
        "trusted": true,
        "_uuid": "afde37634f1f3ced6aa1f1767d552edc7bbb1d36"
      },
      "cell_type": "code",
      "source": "enc_cols_for_sum = [col for col in train_df.columns if ('targetenc' in col) & ('#' not in col)\n                   & ('action_' not in col)]\nprint(enc_cols_for_sum)\n# enc_cols_for_sum= cat_cols + non_cat_cols\n\n#View and Interest category target enc\nenc_cols_for_sum += ['targetenc_action_viewsum','targetenc_action_sum']\n\ntrain_df['sum_targetenc'] = 0\ntest_df['sum_targetenc'] = 0\ntrain_df['product_targetenc'] = 1\ntest_df['product_targetenc'] = 1\nfor col in enc_cols_for_sum:\n    train_df['product_targetenc'] *=(train_df[col]+1)\n    test_df['product_targetenc'] *=(test_df[col]+1)\n    \n    train_df['sum_targetenc'] +=train_df[col]\n    test_df['sum_targetenc'] +=test_df[col]\n    \ntrain_df['mean_targetenc'] = train_df['sum_targetenc'] / len(enc_cols_for_sum)\ntest_df['mean_targetenc'] = test_df['sum_targetenc'] / len(enc_cols_for_sum)",
      "execution_count": 72,
      "outputs": [
        {
          "output_type": "stream",
          "text": "['targetenc_product', 'targetenc_gender', 'targetenc_user_id', 'targetenc_campaign_id', 'targetenc_webpage_id', 'targetenc_product_category_1', 'targetenc_product_category_2', 'targetenc_user_group_id', 'targetenc_var_1', 'targetenc_dayofweek', 'targetenc_month', 'targetenc_hour']\n",
          "name": "stdout"
        }
      ]
    },
    {
      "metadata": {
        "trusted": true,
        "_uuid": "0be2b6596d6c8dcaa456fae240bf3a70b5fbe6bb"
      },
      "cell_type": "code",
      "source": "len(enc_cols)\ntrain_df[['sum_targetenc','product_targetenc','mean_targetenc']+ enc_cols_for_sum ].describe()",
      "execution_count": 73,
      "outputs": [
        {
          "output_type": "execute_result",
          "execution_count": 73,
          "data": {
            "text/plain": "       sum_targetenc  product_targetenc  mean_targetenc  targetenc_product  \\\ncount  463291.000000       4.632910e+05   463291.000000      463291.000000   \nmean       13.853224       1.592646e+04        0.989516           1.000039   \nstd         2.188899       2.012799e+04        0.156350           0.100505   \nmin        10.096170       1.266065e+03        0.721155           0.655652   \n25%        12.745889       7.193353e+03        0.910421           0.964681   \n50%        13.389879       1.073740e+04        0.956420           1.022948   \n75%        14.156349       1.619961e+04        1.011168           1.049443   \nmax        42.467079       1.401939e+06        3.033363           1.402668   \n\n       targetenc_gender  targetenc_user_id  targetenc_campaign_id  \\\ncount     463291.000000      463291.000000          463291.000000   \nmean           0.999912           0.938229               0.995427   \nstd            0.029081           2.061968               0.223085   \nmin            0.922822           0.000000               0.636736   \n25%            0.974257           0.000000               0.840383   \n50%            1.003827           0.000000               0.935327   \n75%            1.027443           0.938229               1.146544   \nmax            1.080242          14.786984               1.415754   \n\n       targetenc_webpage_id  targetenc_product_category_1  \\\ncount         463291.000000                 463291.000000   \nmean               0.995653                      0.998658   \nstd                0.215790                      0.147309   \nmin                0.760406                      0.845103   \n25%                0.805119                      0.882178   \n50%                0.935327                      0.908973   \n75%                1.146544                      1.074001   \nmax                1.415754                      1.307378   \n\n       targetenc_product_category_2  targetenc_user_group_id  targetenc_var_1  \\\ncount                 463291.000000            463291.000000    463291.000000   \nmean                       0.934755                 0.998465         0.999985   \nstd                        0.066988                 0.081753         0.047862   \nmin                        0.000000                 0.821426         0.933699   \n25%                        0.934755                 0.947431         0.966371   \n50%                        0.934755                 0.993441         0.992863   \n75%                        0.934755                 1.066605         1.045312   \nmax                        1.945656                 1.473373         1.077384   \n\n       targetenc_dayofweek  targetenc_month  targetenc_hour  \\\ncount        463291.000000    463291.000000   463291.000000   \nmean              0.989111         1.000000        1.002597   \nstd               0.081077         0.022801        0.057102   \nmin               0.835747         0.969726        0.642248   \n25%               0.920020         0.980341        0.965105   \n50%               0.989111         0.999369        1.000928   \n75%               1.051403         1.022310        1.038769   \nmax               1.125716         1.028254        1.168594   \n\n       targetenc_action_viewsum  targetenc_action_sum  \ncount             463291.000000         463291.000000  \nmean                   1.000153              1.000239  \nstd                    0.174233              0.052469  \nmin                    0.000000              0.000000  \n25%                    0.956714              0.977452  \n50%                    0.994983              0.999790  \n75%                    1.017108              1.027026  \nmax                   14.786984             14.786984  ",
            "text/html": "<div>\n<style scoped>\n    .dataframe tbody tr th:only-of-type {\n        vertical-align: middle;\n    }\n\n    .dataframe tbody tr th {\n        vertical-align: top;\n    }\n\n    .dataframe thead th {\n        text-align: right;\n    }\n</style>\n<table border=\"1\" class=\"dataframe\">\n  <thead>\n    <tr style=\"text-align: right;\">\n      <th></th>\n      <th>sum_targetenc</th>\n      <th>product_targetenc</th>\n      <th>mean_targetenc</th>\n      <th>targetenc_product</th>\n      <th>targetenc_gender</th>\n      <th>targetenc_user_id</th>\n      <th>targetenc_campaign_id</th>\n      <th>targetenc_webpage_id</th>\n      <th>targetenc_product_category_1</th>\n      <th>targetenc_product_category_2</th>\n      <th>targetenc_user_group_id</th>\n      <th>targetenc_var_1</th>\n      <th>targetenc_dayofweek</th>\n      <th>targetenc_month</th>\n      <th>targetenc_hour</th>\n      <th>targetenc_action_viewsum</th>\n      <th>targetenc_action_sum</th>\n    </tr>\n  </thead>\n  <tbody>\n    <tr>\n      <th>count</th>\n      <td>463291.000000</td>\n      <td>4.632910e+05</td>\n      <td>463291.000000</td>\n      <td>463291.000000</td>\n      <td>463291.000000</td>\n      <td>463291.000000</td>\n      <td>463291.000000</td>\n      <td>463291.000000</td>\n      <td>463291.000000</td>\n      <td>463291.000000</td>\n      <td>463291.000000</td>\n      <td>463291.000000</td>\n      <td>463291.000000</td>\n      <td>463291.000000</td>\n      <td>463291.000000</td>\n      <td>463291.000000</td>\n      <td>463291.000000</td>\n    </tr>\n    <tr>\n      <th>mean</th>\n      <td>13.853224</td>\n      <td>1.592646e+04</td>\n      <td>0.989516</td>\n      <td>1.000039</td>\n      <td>0.999912</td>\n      <td>0.938229</td>\n      <td>0.995427</td>\n      <td>0.995653</td>\n      <td>0.998658</td>\n      <td>0.934755</td>\n      <td>0.998465</td>\n      <td>0.999985</td>\n      <td>0.989111</td>\n      <td>1.000000</td>\n      <td>1.002597</td>\n      <td>1.000153</td>\n      <td>1.000239</td>\n    </tr>\n    <tr>\n      <th>std</th>\n      <td>2.188899</td>\n      <td>2.012799e+04</td>\n      <td>0.156350</td>\n      <td>0.100505</td>\n      <td>0.029081</td>\n      <td>2.061968</td>\n      <td>0.223085</td>\n      <td>0.215790</td>\n      <td>0.147309</td>\n      <td>0.066988</td>\n      <td>0.081753</td>\n      <td>0.047862</td>\n      <td>0.081077</td>\n      <td>0.022801</td>\n      <td>0.057102</td>\n      <td>0.174233</td>\n      <td>0.052469</td>\n    </tr>\n    <tr>\n      <th>min</th>\n      <td>10.096170</td>\n      <td>1.266065e+03</td>\n      <td>0.721155</td>\n      <td>0.655652</td>\n      <td>0.922822</td>\n      <td>0.000000</td>\n      <td>0.636736</td>\n      <td>0.760406</td>\n      <td>0.845103</td>\n      <td>0.000000</td>\n      <td>0.821426</td>\n      <td>0.933699</td>\n      <td>0.835747</td>\n      <td>0.969726</td>\n      <td>0.642248</td>\n      <td>0.000000</td>\n      <td>0.000000</td>\n    </tr>\n    <tr>\n      <th>25%</th>\n      <td>12.745889</td>\n      <td>7.193353e+03</td>\n      <td>0.910421</td>\n      <td>0.964681</td>\n      <td>0.974257</td>\n      <td>0.000000</td>\n      <td>0.840383</td>\n      <td>0.805119</td>\n      <td>0.882178</td>\n      <td>0.934755</td>\n      <td>0.947431</td>\n      <td>0.966371</td>\n      <td>0.920020</td>\n      <td>0.980341</td>\n      <td>0.965105</td>\n      <td>0.956714</td>\n      <td>0.977452</td>\n    </tr>\n    <tr>\n      <th>50%</th>\n      <td>13.389879</td>\n      <td>1.073740e+04</td>\n      <td>0.956420</td>\n      <td>1.022948</td>\n      <td>1.003827</td>\n      <td>0.000000</td>\n      <td>0.935327</td>\n      <td>0.935327</td>\n      <td>0.908973</td>\n      <td>0.934755</td>\n      <td>0.993441</td>\n      <td>0.992863</td>\n      <td>0.989111</td>\n      <td>0.999369</td>\n      <td>1.000928</td>\n      <td>0.994983</td>\n      <td>0.999790</td>\n    </tr>\n    <tr>\n      <th>75%</th>\n      <td>14.156349</td>\n      <td>1.619961e+04</td>\n      <td>1.011168</td>\n      <td>1.049443</td>\n      <td>1.027443</td>\n      <td>0.938229</td>\n      <td>1.146544</td>\n      <td>1.146544</td>\n      <td>1.074001</td>\n      <td>0.934755</td>\n      <td>1.066605</td>\n      <td>1.045312</td>\n      <td>1.051403</td>\n      <td>1.022310</td>\n      <td>1.038769</td>\n      <td>1.017108</td>\n      <td>1.027026</td>\n    </tr>\n    <tr>\n      <th>max</th>\n      <td>42.467079</td>\n      <td>1.401939e+06</td>\n      <td>3.033363</td>\n      <td>1.402668</td>\n      <td>1.080242</td>\n      <td>14.786984</td>\n      <td>1.415754</td>\n      <td>1.415754</td>\n      <td>1.307378</td>\n      <td>1.945656</td>\n      <td>1.473373</td>\n      <td>1.077384</td>\n      <td>1.125716</td>\n      <td>1.028254</td>\n      <td>1.168594</td>\n      <td>14.786984</td>\n      <td>14.786984</td>\n    </tr>\n  </tbody>\n</table>\n</div>"
          },
          "metadata": {}
        }
      ]
    },
    {
      "metadata": {
        "trusted": true,
        "_uuid": "f65380d27a95204c8adc139086bf53738858da3a"
      },
      "cell_type": "code",
      "source": "sum_targetenc_thres = 5000\nmask1=train_df['product_targetenc']<=sum_targetenc_thres\n\nprint(train_df.shape)\nprint(train_df[(mask1)].shape)\nprint(train_df[(mask1) & (train_df[targetcol]!=0)].shape)\nprint(train_df[(mask1) & (train_df[targetcol]==0)].shape)",
      "execution_count": 76,
      "outputs": [
        {
          "output_type": "stream",
          "text": "(463291, 117)\n(12370, 117)\n(563, 117)\n(11807, 117)\n",
          "name": "stdout"
        }
      ]
    },
    {
      "metadata": {
        "trusted": true,
        "_uuid": "80dd78e2818d9999c21f9cfbedcedca902e9f625"
      },
      "cell_type": "code",
      "source": "enc_cols = [col for col in train_df.columns if ('targetenc' in col) ]\ntrain_df[enc_cols].head()",
      "execution_count": 79,
      "outputs": [
        {
          "output_type": "execute_result",
          "execution_count": 79,
          "data": {
            "text/plain": "   targetenc_product  targetenc_gender  targetenc_user_id  \\\n0           0.993663          0.946433           0.000000   \n1           0.993663          0.946433           0.938229   \n2           0.993663          0.946433           0.938229   \n3           0.907613          0.985118           0.000000   \n4           0.993663          0.985118           2.957397   \n\n   targetenc_campaign_id  targetenc_webpage_id  targetenc_product_category_1  \\\n0               0.860322              0.791184                      0.860867   \n1               1.036963              1.036963                      0.882178   \n2               0.860322              0.791184                      0.860867   \n3               0.860322              0.791184                      1.180556   \n4               1.280554              1.280554                      1.180556   \n\n   targetenc_product_category_2  targetenc_user_group_id  targetenc_var_1  \\\n0                      0.934755                 0.826426         0.945774   \n1                      0.934755                 0.962647         0.945774   \n2                      0.934755                 0.962647         0.945774   \n3                      0.934755                 0.951867         1.026934   \n4                      0.934755                 1.026805         1.026934   \n\n   targetenc_action_viewsum  targetenc_action_month_viewsum  \\\n0                  0.979018                        0.980341   \n1                  0.955232                        0.980341   \n2                  0.955232                        0.980341   \n3                  0.984949                        0.980341   \n4                  0.959263                        0.980341   \n\n   targetenc_action_dayofweek_viewsum  targetenc_action_hour_viewsum  \\\n0                            0.989111                       0.963179   \n1                            0.989111                       0.963179   \n2                            0.989111                       0.963179   \n3                            0.989111                       0.963179   \n4                            0.989111                       0.963179   \n\n   targetenc_action_usermonth_viewsum  targetenc_action_userdayofweek_viewsum  \\\n0                            2.274921                                0.445391   \n1                            0.985024                                0.926034   \n2                            0.985024                                0.926034   \n3                            0.952336                                0.974005   \n4                            1.078513                                0.982004   \n\n   targetenc_action_userhour_viewsum  targetenc_action_productmonth_viewsum  \\\n0                           0.891677                               0.993663   \n1                           0.996699                               0.993663   \n2                           0.996699                               0.993663   \n3                           0.996699                               0.907613   \n4                           0.996699                               0.993663   \n\n   targetenc_action_productdayofweek_viewsum  \\\n0                                   0.986465   \n1                                   0.986465   \n2                                   0.986465   \n3                                   0.986465   \n4                                   0.986465   \n\n   targetenc_action_producthour_viewsum  \\\n0                              0.946087   \n1                              0.946087   \n2                              0.946087   \n3                              0.802394   \n4                              0.946087   \n\n   targetenc_action_userproductmonth_viewsum  \\\n0                                   0.970413   \n1                                   0.970413   \n2                                   0.970413   \n3                                   0.970413   \n4                                   1.015467   \n\n   targetenc_action_userproductdayofweek_viewsum  \\\n0                                       0.972537   \n1                                       1.079050   \n2                                       1.079050   \n3                                       0.926720   \n4                                       0.972537   \n\n   targetenc_action_userproducthour_viewsum  targetenc_action_sum  \\\n0                                  0.970904              0.989233   \n1                                  0.970904              0.989233   \n2                                  0.970904              0.989233   \n3                                  0.970904              0.942415   \n4                                  0.970904              0.989233   \n\n   targetenc_action_month_sum  targetenc_action_dayofweek_sum  \\\n0                    0.980341                        0.989111   \n1                    0.980341                        0.989111   \n2                    0.980341                        0.989111   \n3                    0.980341                        0.989111   \n4                    0.980341                        0.989111   \n\n   targetenc_action_hour_sum  targetenc_action_usermonth_sum  \\\n0                   0.963179                        0.970569   \n1                   0.963179                        0.984823   \n2                   0.963179                        0.984823   \n3                   0.963179                        0.970569   \n4                   0.963179                        1.052332   \n\n   targetenc_action_userdayofweek_sum  targetenc_action_userhour_sum  \\\n0                            0.984143                       0.967481   \n1                            0.984143                       0.996947   \n2                            0.984143                       0.996947   \n3                            0.984143                       0.996947   \n4                            0.982999                       0.996947   \n\n   targetenc_action_productmonth_sum  targetenc_action_productdayofweek_sum  \\\n0                           0.993663                               0.974327   \n1                           0.993663                               0.974327   \n2                           0.993663                               0.974327   \n3                           0.907613                               0.585347   \n4                           0.993663                               0.974327   \n\n   targetenc_action_producthour_sum  targetenc_action_userproductmonth_sum  \\\n0                          0.946087                               0.970397   \n1                          0.946087                               0.970397   \n2                          0.946087                               0.970397   \n3                          0.858599                               0.970397   \n4                          0.946087                               1.004926   \n\n   targetenc_action_userproductdayofweek_sum  \\\n0                                   0.972603   \n1                                   1.002252   \n2                                   1.002252   \n3                                   1.002252   \n4                                   0.972603   \n\n   targetenc_action_userproducthour_sum  targetenc_user_id#product  \\\n0                              0.970867                   0.895520   \n1                              0.970867                   0.895520   \n2                              0.970867                   0.895520   \n3                              0.970867                   0.000000   \n4                              0.970867                  14.786984   \n\n   targetenc_dayofweek  targetenc_month  targetenc_hour  sum_targetenc  \\\n0             0.989111         0.980341        0.963179      12.060306   \n1             0.989111         0.980341        0.963179      13.554700   \n2             0.989111         0.980341        0.963179      13.110970   \n3             0.989111         0.980341        0.963179      12.498343   \n4             0.989111         0.980341        0.963179      16.547462   \n\n   product_targetenc  mean_targetenc  \n0        5036.742216        0.861450  \n1       13053.484380        0.968193  \n2       10364.378751        0.936498  \n3        6279.688559        0.892739  \n4       42551.055745        1.181962  ",
            "text/html": "<div>\n<style scoped>\n    .dataframe tbody tr th:only-of-type {\n        vertical-align: middle;\n    }\n\n    .dataframe tbody tr th {\n        vertical-align: top;\n    }\n\n    .dataframe thead th {\n        text-align: right;\n    }\n</style>\n<table border=\"1\" class=\"dataframe\">\n  <thead>\n    <tr style=\"text-align: right;\">\n      <th></th>\n      <th>targetenc_product</th>\n      <th>targetenc_gender</th>\n      <th>targetenc_user_id</th>\n      <th>targetenc_campaign_id</th>\n      <th>targetenc_webpage_id</th>\n      <th>targetenc_product_category_1</th>\n      <th>targetenc_product_category_2</th>\n      <th>targetenc_user_group_id</th>\n      <th>targetenc_var_1</th>\n      <th>targetenc_action_viewsum</th>\n      <th>targetenc_action_month_viewsum</th>\n      <th>targetenc_action_dayofweek_viewsum</th>\n      <th>targetenc_action_hour_viewsum</th>\n      <th>targetenc_action_usermonth_viewsum</th>\n      <th>targetenc_action_userdayofweek_viewsum</th>\n      <th>targetenc_action_userhour_viewsum</th>\n      <th>targetenc_action_productmonth_viewsum</th>\n      <th>targetenc_action_productdayofweek_viewsum</th>\n      <th>targetenc_action_producthour_viewsum</th>\n      <th>targetenc_action_userproductmonth_viewsum</th>\n      <th>targetenc_action_userproductdayofweek_viewsum</th>\n      <th>targetenc_action_userproducthour_viewsum</th>\n      <th>targetenc_action_sum</th>\n      <th>targetenc_action_month_sum</th>\n      <th>targetenc_action_dayofweek_sum</th>\n      <th>targetenc_action_hour_sum</th>\n      <th>targetenc_action_usermonth_sum</th>\n      <th>targetenc_action_userdayofweek_sum</th>\n      <th>targetenc_action_userhour_sum</th>\n      <th>targetenc_action_productmonth_sum</th>\n      <th>targetenc_action_productdayofweek_sum</th>\n      <th>targetenc_action_producthour_sum</th>\n      <th>targetenc_action_userproductmonth_sum</th>\n      <th>targetenc_action_userproductdayofweek_sum</th>\n      <th>targetenc_action_userproducthour_sum</th>\n      <th>targetenc_user_id#product</th>\n      <th>targetenc_dayofweek</th>\n      <th>targetenc_month</th>\n      <th>targetenc_hour</th>\n      <th>sum_targetenc</th>\n      <th>product_targetenc</th>\n      <th>mean_targetenc</th>\n    </tr>\n  </thead>\n  <tbody>\n    <tr>\n      <th>0</th>\n      <td>0.993663</td>\n      <td>0.946433</td>\n      <td>0.000000</td>\n      <td>0.860322</td>\n      <td>0.791184</td>\n      <td>0.860867</td>\n      <td>0.934755</td>\n      <td>0.826426</td>\n      <td>0.945774</td>\n      <td>0.979018</td>\n      <td>0.980341</td>\n      <td>0.989111</td>\n      <td>0.963179</td>\n      <td>2.274921</td>\n      <td>0.445391</td>\n      <td>0.891677</td>\n      <td>0.993663</td>\n      <td>0.986465</td>\n      <td>0.946087</td>\n      <td>0.970413</td>\n      <td>0.972537</td>\n      <td>0.970904</td>\n      <td>0.989233</td>\n      <td>0.980341</td>\n      <td>0.989111</td>\n      <td>0.963179</td>\n      <td>0.970569</td>\n      <td>0.984143</td>\n      <td>0.967481</td>\n      <td>0.993663</td>\n      <td>0.974327</td>\n      <td>0.946087</td>\n      <td>0.970397</td>\n      <td>0.972603</td>\n      <td>0.970867</td>\n      <td>0.895520</td>\n      <td>0.989111</td>\n      <td>0.980341</td>\n      <td>0.963179</td>\n      <td>12.060306</td>\n      <td>5036.742216</td>\n      <td>0.861450</td>\n    </tr>\n    <tr>\n      <th>1</th>\n      <td>0.993663</td>\n      <td>0.946433</td>\n      <td>0.938229</td>\n      <td>1.036963</td>\n      <td>1.036963</td>\n      <td>0.882178</td>\n      <td>0.934755</td>\n      <td>0.962647</td>\n      <td>0.945774</td>\n      <td>0.955232</td>\n      <td>0.980341</td>\n      <td>0.989111</td>\n      <td>0.963179</td>\n      <td>0.985024</td>\n      <td>0.926034</td>\n      <td>0.996699</td>\n      <td>0.993663</td>\n      <td>0.986465</td>\n      <td>0.946087</td>\n      <td>0.970413</td>\n      <td>1.079050</td>\n      <td>0.970904</td>\n      <td>0.989233</td>\n      <td>0.980341</td>\n      <td>0.989111</td>\n      <td>0.963179</td>\n      <td>0.984823</td>\n      <td>0.984143</td>\n      <td>0.996947</td>\n      <td>0.993663</td>\n      <td>0.974327</td>\n      <td>0.946087</td>\n      <td>0.970397</td>\n      <td>1.002252</td>\n      <td>0.970867</td>\n      <td>0.895520</td>\n      <td>0.989111</td>\n      <td>0.980341</td>\n      <td>0.963179</td>\n      <td>13.554700</td>\n      <td>13053.484380</td>\n      <td>0.968193</td>\n    </tr>\n    <tr>\n      <th>2</th>\n      <td>0.993663</td>\n      <td>0.946433</td>\n      <td>0.938229</td>\n      <td>0.860322</td>\n      <td>0.791184</td>\n      <td>0.860867</td>\n      <td>0.934755</td>\n      <td>0.962647</td>\n      <td>0.945774</td>\n      <td>0.955232</td>\n      <td>0.980341</td>\n      <td>0.989111</td>\n      <td>0.963179</td>\n      <td>0.985024</td>\n      <td>0.926034</td>\n      <td>0.996699</td>\n      <td>0.993663</td>\n      <td>0.986465</td>\n      <td>0.946087</td>\n      <td>0.970413</td>\n      <td>1.079050</td>\n      <td>0.970904</td>\n      <td>0.989233</td>\n      <td>0.980341</td>\n      <td>0.989111</td>\n      <td>0.963179</td>\n      <td>0.984823</td>\n      <td>0.984143</td>\n      <td>0.996947</td>\n      <td>0.993663</td>\n      <td>0.974327</td>\n      <td>0.946087</td>\n      <td>0.970397</td>\n      <td>1.002252</td>\n      <td>0.970867</td>\n      <td>0.895520</td>\n      <td>0.989111</td>\n      <td>0.980341</td>\n      <td>0.963179</td>\n      <td>13.110970</td>\n      <td>10364.378751</td>\n      <td>0.936498</td>\n    </tr>\n    <tr>\n      <th>3</th>\n      <td>0.907613</td>\n      <td>0.985118</td>\n      <td>0.000000</td>\n      <td>0.860322</td>\n      <td>0.791184</td>\n      <td>1.180556</td>\n      <td>0.934755</td>\n      <td>0.951867</td>\n      <td>1.026934</td>\n      <td>0.984949</td>\n      <td>0.980341</td>\n      <td>0.989111</td>\n      <td>0.963179</td>\n      <td>0.952336</td>\n      <td>0.974005</td>\n      <td>0.996699</td>\n      <td>0.907613</td>\n      <td>0.986465</td>\n      <td>0.802394</td>\n      <td>0.970413</td>\n      <td>0.926720</td>\n      <td>0.970904</td>\n      <td>0.942415</td>\n      <td>0.980341</td>\n      <td>0.989111</td>\n      <td>0.963179</td>\n      <td>0.970569</td>\n      <td>0.984143</td>\n      <td>0.996947</td>\n      <td>0.907613</td>\n      <td>0.585347</td>\n      <td>0.858599</td>\n      <td>0.970397</td>\n      <td>1.002252</td>\n      <td>0.970867</td>\n      <td>0.000000</td>\n      <td>0.989111</td>\n      <td>0.980341</td>\n      <td>0.963179</td>\n      <td>12.498343</td>\n      <td>6279.688559</td>\n      <td>0.892739</td>\n    </tr>\n    <tr>\n      <th>4</th>\n      <td>0.993663</td>\n      <td>0.985118</td>\n      <td>2.957397</td>\n      <td>1.280554</td>\n      <td>1.280554</td>\n      <td>1.180556</td>\n      <td>0.934755</td>\n      <td>1.026805</td>\n      <td>1.026934</td>\n      <td>0.959263</td>\n      <td>0.980341</td>\n      <td>0.989111</td>\n      <td>0.963179</td>\n      <td>1.078513</td>\n      <td>0.982004</td>\n      <td>0.996699</td>\n      <td>0.993663</td>\n      <td>0.986465</td>\n      <td>0.946087</td>\n      <td>1.015467</td>\n      <td>0.972537</td>\n      <td>0.970904</td>\n      <td>0.989233</td>\n      <td>0.980341</td>\n      <td>0.989111</td>\n      <td>0.963179</td>\n      <td>1.052332</td>\n      <td>0.982999</td>\n      <td>0.996947</td>\n      <td>0.993663</td>\n      <td>0.974327</td>\n      <td>0.946087</td>\n      <td>1.004926</td>\n      <td>0.972603</td>\n      <td>0.970867</td>\n      <td>14.786984</td>\n      <td>0.989111</td>\n      <td>0.980341</td>\n      <td>0.963179</td>\n      <td>16.547462</td>\n      <td>42551.055745</td>\n      <td>1.181962</td>\n    </tr>\n  </tbody>\n</table>\n</div>"
          },
          "metadata": {}
        }
      ]
    },
    {
      "metadata": {
        "trusted": true,
        "_uuid": "db884fd74ebe9dfdce4cbc0fc4aec9bf178a3c9a"
      },
      "cell_type": "code",
      "source": "train_df.to_hdf('train_targetenc.hdf',key='data')\nprint('train_df save complete')\ntest_df.to_hdf('test_targetenc.hdf',key='data')\nprint('test_df save complete')",
      "execution_count": null,
      "outputs": []
    }
  ],
  "metadata": {
    "kernelspec": {
      "display_name": "Python 3",
      "language": "python",
      "name": "python3"
    },
    "language_info": {
      "name": "python",
      "version": "3.6.6",
      "mimetype": "text/x-python",
      "codemirror_mode": {
        "name": "ipython",
        "version": 3
      },
      "pygments_lexer": "ipython3",
      "nbconvert_exporter": "python",
      "file_extension": ".py"
    }
  },
  "nbformat": 4,
  "nbformat_minor": 1
}